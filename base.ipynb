{
 "cells": [
  {
   "cell_type": "code",
   "execution_count": 1,
   "id": "ec251e79",
   "metadata": {},
   "outputs": [
    {
     "name": "stdout",
     "output_type": "stream",
     "text": [
      "MNIST data already exists. Skipping download...\n"
     ]
    }
   ],
   "source": [
    "# Download data\n",
    "\n",
    "from pathlib import Path\n",
    "from torchvision import datasets\n",
    "from torchvision.transforms import ToTensor\n",
    "\n",
    "data_path = Path('data/')\n",
    "mnist_data_path = data_path / \"MNIST\"\n",
    "\n",
    "download_mnist = True\n",
    "\n",
    "if mnist_data_path.is_dir():\n",
    "    print('MNIST data already exists. Skipping download...')\n",
    "    download_mnist = False\n",
    "else:\n",
    "    print('MNIST data folder not found. Downloading MNIST....')\n",
    "    download_mnist = True\n",
    "\n",
    "\n",
    "\n",
    "train_data = datasets.MNIST(\n",
    "    root=\"data\",\n",
    "    train=True,\n",
    "    download=download_mnist,\n",
    "    transform=ToTensor(),\n",
    "    target_transform=None\n",
    ")\n",
    "\n",
    "test_data = datasets.MNIST(\n",
    "    root=\"data\",\n",
    "    train=False,\n",
    "    download=download_mnist,\n",
    "    transform=ToTensor()\n",
    ")"
   ]
  },
  {
   "cell_type": "code",
   "execution_count": 2,
   "id": "e33572ae",
   "metadata": {},
   "outputs": [],
   "source": [
    "img, label = train_data[0]"
   ]
  },
  {
   "cell_type": "code",
   "execution_count": 3,
   "id": "bb88a43e",
   "metadata": {},
   "outputs": [
    {
     "data": {
      "text/plain": [
       "5"
      ]
     },
     "execution_count": 3,
     "metadata": {},
     "output_type": "execute_result"
    }
   ],
   "source": [
    "label"
   ]
  },
  {
   "cell_type": "code",
   "execution_count": 4,
   "id": "ba5d10e6",
   "metadata": {},
   "outputs": [
    {
     "data": {
      "text/plain": [
       "tensor([[[0.0000, 0.0000, 0.0000, 0.0000, 0.0000, 0.0000, 0.0000, 0.0000,\n",
       "          0.0000, 0.0000, 0.0000, 0.0000, 0.0000, 0.0000, 0.0000, 0.0000,\n",
       "          0.0000, 0.0000, 0.0000, 0.0000, 0.0000, 0.0000, 0.0000, 0.0000,\n",
       "          0.0000, 0.0000, 0.0000, 0.0000],\n",
       "         [0.0000, 0.0000, 0.0000, 0.0000, 0.0000, 0.0000, 0.0000, 0.0000,\n",
       "          0.0000, 0.0000, 0.0000, 0.0000, 0.0000, 0.0000, 0.0000, 0.0000,\n",
       "          0.0000, 0.0000, 0.0000, 0.0000, 0.0000, 0.0000, 0.0000, 0.0000,\n",
       "          0.0000, 0.0000, 0.0000, 0.0000],\n",
       "         [0.0000, 0.0000, 0.0000, 0.0000, 0.0000, 0.0000, 0.0000, 0.0000,\n",
       "          0.0000, 0.0000, 0.0000, 0.0000, 0.0000, 0.0000, 0.0000, 0.0000,\n",
       "          0.0000, 0.0000, 0.0000, 0.0000, 0.0000, 0.0000, 0.0000, 0.0000,\n",
       "          0.0000, 0.0000, 0.0000, 0.0000],\n",
       "         [0.0000, 0.0000, 0.0000, 0.0000, 0.0000, 0.0000, 0.0000, 0.0000,\n",
       "          0.0000, 0.0000, 0.0000, 0.0000, 0.0000, 0.0000, 0.0000, 0.0000,\n",
       "          0.0000, 0.0000, 0.0000, 0.0000, 0.0000, 0.0000, 0.0000, 0.0000,\n",
       "          0.0000, 0.0000, 0.0000, 0.0000],\n",
       "         [0.0000, 0.0000, 0.0000, 0.0000, 0.0000, 0.0000, 0.0000, 0.0000,\n",
       "          0.0000, 0.0000, 0.0000, 0.0000, 0.0000, 0.0000, 0.0000, 0.0000,\n",
       "          0.0000, 0.0000, 0.0000, 0.0000, 0.0000, 0.0000, 0.0000, 0.0000,\n",
       "          0.0000, 0.0000, 0.0000, 0.0000],\n",
       "         [0.0000, 0.0000, 0.0000, 0.0000, 0.0000, 0.0000, 0.0000, 0.0000,\n",
       "          0.0000, 0.0000, 0.0000, 0.0000, 0.0118, 0.0706, 0.0706, 0.0706,\n",
       "          0.4941, 0.5333, 0.6863, 0.1020, 0.6510, 1.0000, 0.9686, 0.4980,\n",
       "          0.0000, 0.0000, 0.0000, 0.0000],\n",
       "         [0.0000, 0.0000, 0.0000, 0.0000, 0.0000, 0.0000, 0.0000, 0.0000,\n",
       "          0.1176, 0.1412, 0.3686, 0.6039, 0.6667, 0.9922, 0.9922, 0.9922,\n",
       "          0.9922, 0.9922, 0.8824, 0.6745, 0.9922, 0.9490, 0.7647, 0.2510,\n",
       "          0.0000, 0.0000, 0.0000, 0.0000],\n",
       "         [0.0000, 0.0000, 0.0000, 0.0000, 0.0000, 0.0000, 0.0000, 0.1922,\n",
       "          0.9333, 0.9922, 0.9922, 0.9922, 0.9922, 0.9922, 0.9922, 0.9922,\n",
       "          0.9922, 0.9843, 0.3647, 0.3216, 0.3216, 0.2196, 0.1529, 0.0000,\n",
       "          0.0000, 0.0000, 0.0000, 0.0000],\n",
       "         [0.0000, 0.0000, 0.0000, 0.0000, 0.0000, 0.0000, 0.0000, 0.0706,\n",
       "          0.8588, 0.9922, 0.9922, 0.9922, 0.9922, 0.9922, 0.7765, 0.7137,\n",
       "          0.9686, 0.9451, 0.0000, 0.0000, 0.0000, 0.0000, 0.0000, 0.0000,\n",
       "          0.0000, 0.0000, 0.0000, 0.0000],\n",
       "         [0.0000, 0.0000, 0.0000, 0.0000, 0.0000, 0.0000, 0.0000, 0.0000,\n",
       "          0.3137, 0.6118, 0.4196, 0.9922, 0.9922, 0.8039, 0.0431, 0.0000,\n",
       "          0.1686, 0.6039, 0.0000, 0.0000, 0.0000, 0.0000, 0.0000, 0.0000,\n",
       "          0.0000, 0.0000, 0.0000, 0.0000],\n",
       "         [0.0000, 0.0000, 0.0000, 0.0000, 0.0000, 0.0000, 0.0000, 0.0000,\n",
       "          0.0000, 0.0549, 0.0039, 0.6039, 0.9922, 0.3529, 0.0000, 0.0000,\n",
       "          0.0000, 0.0000, 0.0000, 0.0000, 0.0000, 0.0000, 0.0000, 0.0000,\n",
       "          0.0000, 0.0000, 0.0000, 0.0000],\n",
       "         [0.0000, 0.0000, 0.0000, 0.0000, 0.0000, 0.0000, 0.0000, 0.0000,\n",
       "          0.0000, 0.0000, 0.0000, 0.5451, 0.9922, 0.7451, 0.0078, 0.0000,\n",
       "          0.0000, 0.0000, 0.0000, 0.0000, 0.0000, 0.0000, 0.0000, 0.0000,\n",
       "          0.0000, 0.0000, 0.0000, 0.0000],\n",
       "         [0.0000, 0.0000, 0.0000, 0.0000, 0.0000, 0.0000, 0.0000, 0.0000,\n",
       "          0.0000, 0.0000, 0.0000, 0.0431, 0.7451, 0.9922, 0.2745, 0.0000,\n",
       "          0.0000, 0.0000, 0.0000, 0.0000, 0.0000, 0.0000, 0.0000, 0.0000,\n",
       "          0.0000, 0.0000, 0.0000, 0.0000],\n",
       "         [0.0000, 0.0000, 0.0000, 0.0000, 0.0000, 0.0000, 0.0000, 0.0000,\n",
       "          0.0000, 0.0000, 0.0000, 0.0000, 0.1373, 0.9451, 0.8824, 0.6275,\n",
       "          0.4235, 0.0039, 0.0000, 0.0000, 0.0000, 0.0000, 0.0000, 0.0000,\n",
       "          0.0000, 0.0000, 0.0000, 0.0000],\n",
       "         [0.0000, 0.0000, 0.0000, 0.0000, 0.0000, 0.0000, 0.0000, 0.0000,\n",
       "          0.0000, 0.0000, 0.0000, 0.0000, 0.0000, 0.3176, 0.9412, 0.9922,\n",
       "          0.9922, 0.4667, 0.0980, 0.0000, 0.0000, 0.0000, 0.0000, 0.0000,\n",
       "          0.0000, 0.0000, 0.0000, 0.0000],\n",
       "         [0.0000, 0.0000, 0.0000, 0.0000, 0.0000, 0.0000, 0.0000, 0.0000,\n",
       "          0.0000, 0.0000, 0.0000, 0.0000, 0.0000, 0.0000, 0.1765, 0.7294,\n",
       "          0.9922, 0.9922, 0.5882, 0.1059, 0.0000, 0.0000, 0.0000, 0.0000,\n",
       "          0.0000, 0.0000, 0.0000, 0.0000],\n",
       "         [0.0000, 0.0000, 0.0000, 0.0000, 0.0000, 0.0000, 0.0000, 0.0000,\n",
       "          0.0000, 0.0000, 0.0000, 0.0000, 0.0000, 0.0000, 0.0000, 0.0627,\n",
       "          0.3647, 0.9882, 0.9922, 0.7333, 0.0000, 0.0000, 0.0000, 0.0000,\n",
       "          0.0000, 0.0000, 0.0000, 0.0000],\n",
       "         [0.0000, 0.0000, 0.0000, 0.0000, 0.0000, 0.0000, 0.0000, 0.0000,\n",
       "          0.0000, 0.0000, 0.0000, 0.0000, 0.0000, 0.0000, 0.0000, 0.0000,\n",
       "          0.0000, 0.9765, 0.9922, 0.9765, 0.2510, 0.0000, 0.0000, 0.0000,\n",
       "          0.0000, 0.0000, 0.0000, 0.0000],\n",
       "         [0.0000, 0.0000, 0.0000, 0.0000, 0.0000, 0.0000, 0.0000, 0.0000,\n",
       "          0.0000, 0.0000, 0.0000, 0.0000, 0.0000, 0.0000, 0.1804, 0.5098,\n",
       "          0.7176, 0.9922, 0.9922, 0.8118, 0.0078, 0.0000, 0.0000, 0.0000,\n",
       "          0.0000, 0.0000, 0.0000, 0.0000],\n",
       "         [0.0000, 0.0000, 0.0000, 0.0000, 0.0000, 0.0000, 0.0000, 0.0000,\n",
       "          0.0000, 0.0000, 0.0000, 0.0000, 0.1529, 0.5804, 0.8980, 0.9922,\n",
       "          0.9922, 0.9922, 0.9804, 0.7137, 0.0000, 0.0000, 0.0000, 0.0000,\n",
       "          0.0000, 0.0000, 0.0000, 0.0000],\n",
       "         [0.0000, 0.0000, 0.0000, 0.0000, 0.0000, 0.0000, 0.0000, 0.0000,\n",
       "          0.0000, 0.0000, 0.0941, 0.4471, 0.8667, 0.9922, 0.9922, 0.9922,\n",
       "          0.9922, 0.7882, 0.3059, 0.0000, 0.0000, 0.0000, 0.0000, 0.0000,\n",
       "          0.0000, 0.0000, 0.0000, 0.0000],\n",
       "         [0.0000, 0.0000, 0.0000, 0.0000, 0.0000, 0.0000, 0.0000, 0.0000,\n",
       "          0.0902, 0.2588, 0.8353, 0.9922, 0.9922, 0.9922, 0.9922, 0.7765,\n",
       "          0.3176, 0.0078, 0.0000, 0.0000, 0.0000, 0.0000, 0.0000, 0.0000,\n",
       "          0.0000, 0.0000, 0.0000, 0.0000],\n",
       "         [0.0000, 0.0000, 0.0000, 0.0000, 0.0000, 0.0000, 0.0706, 0.6706,\n",
       "          0.8588, 0.9922, 0.9922, 0.9922, 0.9922, 0.7647, 0.3137, 0.0353,\n",
       "          0.0000, 0.0000, 0.0000, 0.0000, 0.0000, 0.0000, 0.0000, 0.0000,\n",
       "          0.0000, 0.0000, 0.0000, 0.0000],\n",
       "         [0.0000, 0.0000, 0.0000, 0.0000, 0.2157, 0.6745, 0.8863, 0.9922,\n",
       "          0.9922, 0.9922, 0.9922, 0.9569, 0.5216, 0.0431, 0.0000, 0.0000,\n",
       "          0.0000, 0.0000, 0.0000, 0.0000, 0.0000, 0.0000, 0.0000, 0.0000,\n",
       "          0.0000, 0.0000, 0.0000, 0.0000],\n",
       "         [0.0000, 0.0000, 0.0000, 0.0000, 0.5333, 0.9922, 0.9922, 0.9922,\n",
       "          0.8314, 0.5294, 0.5176, 0.0627, 0.0000, 0.0000, 0.0000, 0.0000,\n",
       "          0.0000, 0.0000, 0.0000, 0.0000, 0.0000, 0.0000, 0.0000, 0.0000,\n",
       "          0.0000, 0.0000, 0.0000, 0.0000],\n",
       "         [0.0000, 0.0000, 0.0000, 0.0000, 0.0000, 0.0000, 0.0000, 0.0000,\n",
       "          0.0000, 0.0000, 0.0000, 0.0000, 0.0000, 0.0000, 0.0000, 0.0000,\n",
       "          0.0000, 0.0000, 0.0000, 0.0000, 0.0000, 0.0000, 0.0000, 0.0000,\n",
       "          0.0000, 0.0000, 0.0000, 0.0000],\n",
       "         [0.0000, 0.0000, 0.0000, 0.0000, 0.0000, 0.0000, 0.0000, 0.0000,\n",
       "          0.0000, 0.0000, 0.0000, 0.0000, 0.0000, 0.0000, 0.0000, 0.0000,\n",
       "          0.0000, 0.0000, 0.0000, 0.0000, 0.0000, 0.0000, 0.0000, 0.0000,\n",
       "          0.0000, 0.0000, 0.0000, 0.0000],\n",
       "         [0.0000, 0.0000, 0.0000, 0.0000, 0.0000, 0.0000, 0.0000, 0.0000,\n",
       "          0.0000, 0.0000, 0.0000, 0.0000, 0.0000, 0.0000, 0.0000, 0.0000,\n",
       "          0.0000, 0.0000, 0.0000, 0.0000, 0.0000, 0.0000, 0.0000, 0.0000,\n",
       "          0.0000, 0.0000, 0.0000, 0.0000]]])"
      ]
     },
     "execution_count": 4,
     "metadata": {},
     "output_type": "execute_result"
    }
   ],
   "source": [
    "img"
   ]
  },
  {
   "cell_type": "code",
   "execution_count": 5,
   "id": "1c880e43",
   "metadata": {},
   "outputs": [
    {
     "data": {
      "text/plain": [
       "torch.Size([1, 28, 28])"
      ]
     },
     "execution_count": 5,
     "metadata": {},
     "output_type": "execute_result"
    }
   ],
   "source": [
    "img.shape"
   ]
  },
  {
   "cell_type": "code",
   "execution_count": 6,
   "id": "c5ed4cc4",
   "metadata": {},
   "outputs": [
    {
     "data": {
      "text/plain": [
       "(60000, 60000, 10000, 10000)"
      ]
     },
     "execution_count": 6,
     "metadata": {},
     "output_type": "execute_result"
    }
   ],
   "source": [
    "# Sample info\n",
    "len(train_data.data), len(train_data.targets), len(test_data.data), len(test_data.targets)"
   ]
  },
  {
   "cell_type": "code",
   "execution_count": 7,
   "id": "a0c6bb01",
   "metadata": {},
   "outputs": [
    {
     "data": {
      "text/plain": [
       "torchvision.datasets.mnist.MNIST"
      ]
     },
     "execution_count": 7,
     "metadata": {},
     "output_type": "execute_result"
    }
   ],
   "source": [
    "type(train_data)"
   ]
  },
  {
   "cell_type": "code",
   "execution_count": 8,
   "id": "abb29867",
   "metadata": {},
   "outputs": [
    {
     "data": {
      "text/plain": [
       "True"
      ]
     },
     "execution_count": 8,
     "metadata": {},
     "output_type": "execute_result"
    }
   ],
   "source": [
    "from torch.utils.data import Dataset\n",
    "isinstance(train_data, Dataset)"
   ]
  },
  {
   "cell_type": "code",
   "execution_count": 9,
   "id": "57d5a633",
   "metadata": {},
   "outputs": [],
   "source": [
    "class_names = train_data.classes"
   ]
  },
  {
   "cell_type": "code",
   "execution_count": 10,
   "id": "6ca9875f",
   "metadata": {},
   "outputs": [
    {
     "data": {
      "image/png": "[encoded data removed]",
      "text/plain": [
       "<Figure size 640x480 with 1 Axes>"
      ]
     },
     "metadata": {},
     "output_type": "display_data"
    }
   ],
   "source": [
    "# Visualizing the data\n",
    "import matplotlib.pyplot as plt\n",
    "img, label = train_data[0]\n",
    "\n",
    "plt.imshow(img.squeeze())\n",
    "plt.title(label);"
   ]
  },
  {
   "cell_type": "code",
   "execution_count": 11,
   "id": "1e79db95",
   "metadata": {},
   "outputs": [
    {
     "data": {
      "image/png": "[encoded data removed]",
      "text/plain": [
       "<Figure size 640x480 with 1 Axes>"
      ]
     },
     "metadata": {},
     "output_type": "display_data"
    }
   ],
   "source": [
    "# Grayscale version\n",
    "plt.imshow(img.squeeze(), cmap=\"gray\")\n",
    "plt.title(class_names[label]);"
   ]
  },
  {
   "cell_type": "code",
   "execution_count": 12,
   "id": "6fb27068",
   "metadata": {},
   "outputs": [
    {
     "data": {
      "image/png": "[encoded data removed]",
      "text/plain": [
       "<Figure size 900x900 with 16 Axes>"
      ]
     },
     "metadata": {},
     "output_type": "display_data"
    }
   ],
   "source": [
    "# Plot more images\n",
    "import torch\n",
    "torch.manual_seed(13)\n",
    "\n",
    "fig = plt.figure(figsize=(9, 9))\n",
    "rows, cols = 4, 4\n",
    "\n",
    "for i in range(1, rows*cols + 1):\n",
    "    random_idx = torch.randint(0, len(train_data), size=[1]).item()\n",
    "    img, label = train_data[random_idx]\n",
    "    fig.add_subplot(rows, cols, i)\n",
    "    plt.imshow(img.squeeze(), cmap='gray')\n",
    "    plt.title(class_names[label])\n",
    "    plt.axis(False);"
   ]
  },
  {
   "cell_type": "code",
   "execution_count": 13,
   "id": "0ee9e12c",
   "metadata": {},
   "outputs": [
    {
     "name": "stdout",
     "output_type": "stream",
     "text": [
      "Train data loader <torch.utils.data.dataloader.DataLoader object at 0x16b5524d0>\n",
      "Test data loader <torch.utils.data.dataloader.DataLoader object at 0x16c467290>\n"
     ]
    }
   ],
   "source": [
    "# DataLoader\n",
    "from torch.utils.data import DataLoader\n",
    "\n",
    "# Setup the batch size (Hyperparameter)\n",
    "BATCH_SIZE = 32\n",
    "\n",
    "# Turn datasets into batches (iterable)\n",
    "train_dataloader = DataLoader(\n",
    "    train_data,\n",
    "    batch_size=BATCH_SIZE,\n",
    "    shuffle=True\n",
    ")\n",
    "\n",
    "test_dataloader = DataLoader(\n",
    "    test_data,\n",
    "    batch_size=BATCH_SIZE,\n",
    "    shuffle=False\n",
    ")\n",
    "\n",
    "print(f'Train data loader {train_dataloader}')\n",
    "print(f'Test data loader {test_dataloader}')"
   ]
  },
  {
   "cell_type": "code",
   "execution_count": 14,
   "id": "41a7d756-bfae-4488-9ef2-04440356135c",
   "metadata": {},
   "outputs": [
    {
     "data": {
      "text/plain": [
       "(1875, 313)"
      ]
     },
     "execution_count": 14,
     "metadata": {},
     "output_type": "execute_result"
    }
   ],
   "source": [
    "len(train_dataloader), len(test_dataloader)"
   ]
  },
  {
   "cell_type": "code",
   "execution_count": 15,
   "id": "dcd2b44b-0e06-4076-9ee1-47eb9ba2e07a",
   "metadata": {},
   "outputs": [
    {
     "data": {
      "text/plain": [
       "(torch.Size([32, 1, 28, 28]), torch.Size([32]))"
      ]
     },
     "execution_count": 15,
     "metadata": {},
     "output_type": "execute_result"
    }
   ],
   "source": [
    "train_features_batch, train_labels_batch = next(iter(train_dataloader))\n",
    "train_features_batch.shape, train_labels_batch.shape"
   ]
  },
  {
   "cell_type": "code",
   "execution_count": 16,
   "id": "4bd3c17a-21bc-4a6b-99e0-a8ecff74cb9d",
   "metadata": {},
   "outputs": [
    {
     "name": "stdout",
     "output_type": "stream",
     "text": [
      "Image size: torch.Size([1, 28, 28])\n",
      "Label 8, label size: torch.Size([])\n"
     ]
    },
    {
     "data": {
      "image/png": "[encoded data removed]",
      "text/plain": [
       "<Figure size 640x480 with 1 Axes>"
      ]
     },
     "metadata": {},
     "output_type": "display_data"
    }
   ],
   "source": [
    "# Visualize one sample\n",
    "torch.manual_seed(13)\n",
    "\n",
    "random_idx = torch.randint(0, len(train_features_batch), size=[1]).item()\n",
    "img, label = train_features_batch[random_idx], train_labels_batch[random_idx]\n",
    "plt.imshow(img.squeeze(), cmap=\"gray\")\n",
    "plt.title(class_names[label])\n",
    "plt.axis(\"Off\")\n",
    "\n",
    "print(f\"Image size: {img.shape}\")\n",
    "print(f\"Label {label}, label size: {label.shape}\")"
   ]
  },
  {
   "cell_type": "code",
   "execution_count": 17,
   "id": "c304e857-2c2e-4b80-a1a0-7af16db0ee16",
   "metadata": {},
   "outputs": [
    {
     "name": "stdout",
     "output_type": "stream",
     "text": [
      "Shape before flattening: torch.Size([1, 28, 28]) -> [color_channels, height, width]\n",
      "Shape after flattening: torch.Size([1, 784]) -> [color_channels, height*width]\n"
     ]
    }
   ],
   "source": [
    "# Experimentation for baseline\n",
    "from torch import nn\n",
    "\n",
    "# Create a flatten layer\n",
    "flatten_model = nn.Flatten()\n",
    "\n",
    "# Single image\n",
    "x = train_features_batch[0]\n",
    "\n",
    "# Flatten the image\n",
    "output = flatten_model(x)\n",
    "\n",
    "# Print out what happened\n",
    "print(f\"Shape before flattening: {x.shape} -> [color_channels, height, width]\")\n",
    "print(f\"Shape after flattening: {output.shape} -> [color_channels, height*width]\")"
   ]
  },
  {
   "cell_type": "code",
   "execution_count": 18,
   "id": "d9e7f648-3b78-4994-b8fe-98c1d2e508fa",
   "metadata": {},
   "outputs": [
    {
     "data": {
      "text/plain": [
       "torch.Size([3, 8])"
      ]
     },
     "execution_count": 18,
     "metadata": {},
     "output_type": "execute_result"
    }
   ],
   "source": [
    "flatten_model(torch.randn((3, 4, 2))).shape"
   ]
  },
  {
   "cell_type": "code",
   "execution_count": 19,
   "id": "164ddc3a-ede9-4caf-a054-0152912d2ac8",
   "metadata": {},
   "outputs": [],
   "source": [
    "# V0 for MNIST model\n",
    "from torch import nn\n",
    "\n",
    "class MNISTModelV0(nn.Module):\n",
    "    def __init__(self, input_shape, hidden_units, output_shape):\n",
    "        super().__init__()\n",
    "        self.layer_stack = nn.Sequential(\n",
    "            nn.Flatten(),\n",
    "            nn.Linear(in_features=input_shape, out_features=hidden_units),\n",
    "            nn.Linear(in_features=hidden_units, out_features=output_shape)\n",
    "        )\n",
    "\n",
    "    def forward(self, x):\n",
    "        return self.layer_stack(x)"
   ]
  },
  {
   "cell_type": "code",
   "execution_count": 20,
   "id": "6e3915a6-fb19-401c-8add-c5107fb3546b",
   "metadata": {},
   "outputs": [
    {
     "data": {
      "text/plain": [
       "MNISTModelV0(\n",
       "  (layer_stack): Sequential(\n",
       "    (0): Flatten(start_dim=1, end_dim=-1)\n",
       "    (1): Linear(in_features=784, out_features=10, bias=True)\n",
       "    (2): Linear(in_features=10, out_features=10, bias=True)\n",
       "  )\n",
       ")"
      ]
     },
     "execution_count": 20,
     "metadata": {},
     "output_type": "execute_result"
    }
   ],
   "source": [
    "# Instantiate V0\n",
    "torch.manual_seed(13)\n",
    "\n",
    "model_0 = MNISTModelV0(\n",
    "    input_shape=28*28,\n",
    "    hidden_units=10,\n",
    "    output_shape=len(class_names)\n",
    ")\n",
    "model_0.to('cpu')"
   ]
  },
  {
   "cell_type": "code",
   "execution_count": 21,
   "id": "79601ce6-d06c-44cf-a6e2-79425d7f2f98",
   "metadata": {},
   "outputs": [],
   "source": [
    "# Setup loss function and optimizer\n",
    "\n",
    "loss_fn = nn.CrossEntropyLoss()\n",
    "optimizer = torch.optim.SGD(params=model_0.parameters(), lr=0.1)"
   ]
  },
  {
   "cell_type": "code",
   "execution_count": 22,
   "id": "977e997a-7f0b-4107-b31a-fb9ac8e7e414",
   "metadata": {},
   "outputs": [],
   "source": [
    "# Timing our experiments\n",
    "from timeit import default_timer as timer\n",
    "\n",
    "def print_train_time(start, end, device=None):\n",
    "    total_time = end - start\n",
    "    print(f'Train time on {device}: {total_time:.3f} seconds')\n",
    "    return total_time"
   ]
  },
  {
   "cell_type": "code",
   "execution_count": 23,
   "id": "9c769c94-5798-4842-9efa-b12546d8ff2e",
   "metadata": {},
   "outputs": [],
   "source": [
    "# !pip install tqdm"
   ]
  },
  {
   "cell_type": "code",
   "execution_count": 24,
   "id": "5a282995-38a8-4b0c-a8cf-707a73400ce3",
   "metadata": {},
   "outputs": [
    {
     "name": "stderr",
     "output_type": "stream",
     "text": [
      "/Users/shreyashkumar/anaconda3/envs/pytorch/lib/python3.11/site-packages/tqdm/auto.py:21: TqdmWarning: IProgress not found. Please update jupyter and ipywidgets. See https://ipywidgets.readthedocs.io/en/stable/user_install.html\n",
      "  from .autonotebook import tqdm as notebook_tqdm\n",
      "  0%|          | 0/3 [00:00<?, ?it/s]"
     ]
    },
    {
     "name": "stdout",
     "output_type": "stream",
     "text": [
      "Epoch: 0\n",
      " ----------------------------------------------------------------------------------------------------\n",
      "Looked at 0/60000 samples\n",
      "Looked at 12800/60000 samples\n",
      "Looked at 25600/60000 samples\n",
      "Looked at 38400/60000 samples\n",
      "Looked at 51200/60000 samples\n"
     ]
    },
    {
     "name": "stderr",
     "output_type": "stream",
     "text": [
      " 33%|███▎      | 1/3 [00:01<00:03,  1.60s/it]"
     ]
    },
    {
     "name": "stdout",
     "output_type": "stream",
     "text": [
      "\n",
      "Train loss: 0.00000 | Test loss: 0.31293, Test acc: 91.17%\n",
      "\n",
      "Epoch: 1\n",
      " ----------------------------------------------------------------------------------------------------\n",
      "Looked at 0/60000 samples\n",
      "Looked at 12800/60000 samples\n",
      "Looked at 25600/60000 samples\n",
      "Looked at 38400/60000 samples\n",
      "Looked at 51200/60000 samples\n"
     ]
    },
    {
     "name": "stderr",
     "output_type": "stream",
     "text": [
      " 67%|██████▋   | 2/3 [00:03<00:01,  1.57s/it]"
     ]
    },
    {
     "name": "stdout",
     "output_type": "stream",
     "text": [
      "\n",
      "Train loss: 0.00000 | Test loss: 0.30413, Test acc: 91.18%\n",
      "\n",
      "Epoch: 2\n",
      " ----------------------------------------------------------------------------------------------------\n",
      "Looked at 0/60000 samples\n",
      "Looked at 12800/60000 samples\n",
      "Looked at 25600/60000 samples\n",
      "Looked at 38400/60000 samples\n",
      "Looked at 51200/60000 samples\n"
     ]
    },
    {
     "name": "stderr",
     "output_type": "stream",
     "text": [
      "100%|██████████| 3/3 [00:04<00:00,  1.56s/it]"
     ]
    },
    {
     "name": "stdout",
     "output_type": "stream",
     "text": [
      "\n",
      "Train loss: 0.00000 | Test loss: 0.28565, Test acc: 91.79%\n",
      "\n",
      "Train time on cpu: 4.707 seconds\n"
     ]
    },
    {
     "name": "stderr",
     "output_type": "stream",
     "text": [
      "\n"
     ]
    }
   ],
   "source": [
    "from tqdm.auto import tqdm\n",
    "from helper_functions import accuracy_fn\n",
    "\n",
    "torch.manual_seed(13)\n",
    "train_time_start_on_cpu = timer()\n",
    "\n",
    "epochs = 3\n",
    "\n",
    "# Training and testing loop\n",
    "for epoch in tqdm(range(epochs)):\n",
    "    print(f\"Epoch: {epoch}\\n {'-' * 100}\")\n",
    "    train_loss = 0\n",
    "\n",
    "    for batch, (X, y) in enumerate(train_dataloader):\n",
    "        # Training\n",
    "        model_0.train()\n",
    "\n",
    "        # 1.Forward pass\n",
    "        y_pred = model_0(X)\n",
    "\n",
    "        # 2.Calculate loss (per batch)\n",
    "        loss = loss_fn(y_pred, y)\n",
    "\n",
    "        # 3.Optimizer zero grad\n",
    "        optimizer.zero_grad()\n",
    "\n",
    "        # 4.Loss backward\n",
    "        loss.backward()\n",
    "\n",
    "        # 5.Optimizer step\n",
    "        optimizer.step()\n",
    "\n",
    "        # Print out how many samples have been seen\n",
    "        if batch % 400 == 0:\n",
    "            print(f\"Looked at {batch * len(X)}/{len(train_dataloader.dataset)} samples\")\n",
    "\n",
    "    train_loss /= len(train_dataloader)\n",
    "\n",
    "\n",
    "    # Testing\n",
    "    test_loss, test_acc = 0, 0\n",
    "    model_0.eval()\n",
    "\n",
    "    with torch.inference_mode():\n",
    "        for X, y in test_dataloader:\n",
    "            # 1.Forward pass\n",
    "            test_pred = model_0(X)\n",
    "\n",
    "            # 2.Calculate loss (accumulate)\n",
    "            test_loss += loss_fn(test_pred, y)\n",
    "\n",
    "            # 3.Calculate accuracy\n",
    "            test_acc += accuracy_fn(y_true=y, y_pred=test_pred.argmax(dim=1))\n",
    "\n",
    "        test_loss /= len(test_dataloader)\n",
    "        test_acc /= len(test_dataloader)\n",
    "\n",
    "\n",
    "    print(f\"\\nTrain loss: {train_loss:.5f} | Test loss: {test_loss:.5f}, Test acc: {test_acc:.2f}%\\n\")\n",
    "\n",
    "# Calculate training time      \n",
    "train_time_end_on_cpu = timer()\n",
    "\n",
    "total_train_time_model_0 = print_train_time(\n",
    "    start=train_time_start_on_cpu,\n",
    "    end=train_time_end_on_cpu,\n",
    "    device=str(next(model_0.parameters()).device)\n",
    ")"
   ]
  },
  {
   "cell_type": "code",
   "execution_count": 25,
   "id": "e58efb9f-3292-4bf9-b221-eefc57445257",
   "metadata": {},
   "outputs": [
    {
     "data": {
      "text/plain": [
       "device(type='cpu')"
      ]
     },
     "execution_count": 25,
     "metadata": {},
     "output_type": "execute_result"
    }
   ],
   "source": [
    "next(model_0.parameters()).device"
   ]
  },
  {
   "cell_type": "code",
   "execution_count": 26,
   "id": "2d42f3e9-96a2-4cb0-b054-03af89b7d805",
   "metadata": {},
   "outputs": [],
   "source": [
    "torch.manual_seed(13)\n",
    "\n",
    "def eval_model(\n",
    "    model,\n",
    "    data_loader,\n",
    "    loss_fn,\n",
    "    accuracy_fn\n",
    "):\n",
    "    loss, acc = 0, 0\n",
    "    model.eval()\n",
    "\n",
    "    for X, y in data_loader:\n",
    "        # Make predictions\n",
    "        y_pred = model(X)\n",
    "\n",
    "        # Accumulate the loss and accuracy per batch\n",
    "        loss += loss_fn(y_pred, y)\n",
    "        acc += accuracy_fn(y_true=y, y_pred=y_pred.argmax(dim=1))\n",
    "\n",
    "\n",
    "    # Scale loss and acc to find the average loss/acc per batch\n",
    "    loss /= len(data_loader)\n",
    "    acc /= len(data_loader)\n",
    "\n",
    "    return {\n",
    "        \"model_name\": model.__class__.__name__,\n",
    "        \"model_loss\": loss.item(),\n",
    "        \"model_acc\": acc\n",
    "    }"
   ]
  },
  {
   "cell_type": "code",
   "execution_count": 27,
   "id": "93a61db5-a7f9-4396-9a70-339abda032a8",
   "metadata": {},
   "outputs": [
    {
     "data": {
      "text/plain": [
       "{'model_name': 'MNISTModelV0',\n",
       " 'model_loss': 0.28564971685409546,\n",
       " 'model_acc': 91.79313099041534}"
      ]
     },
     "execution_count": 27,
     "metadata": {},
     "output_type": "execute_result"
    }
   ],
   "source": [
    "# Calculate model 0 results on test dataset\n",
    "model_0_results = eval_model(model=model_0, data_loader=test_dataloader,\n",
    "    loss_fn=loss_fn, accuracy_fn=accuracy_fn\n",
    ")\n",
    "model_0_results"
   ]
  },
  {
   "cell_type": "code",
   "execution_count": 28,
   "id": "fabf1a4f-875d-469a-853b-df717946936e",
   "metadata": {},
   "outputs": [
    {
     "data": {
      "text/plain": [
       "'cpu'"
      ]
     },
     "execution_count": 28,
     "metadata": {},
     "output_type": "execute_result"
    }
   ],
   "source": [
    "# Device agnostic code\n",
    "import torch\n",
    "device = 'cuda' if torch.cuda.is_available() else 'cpu'\n",
    "device"
   ]
  },
  {
   "cell_type": "code",
   "execution_count": 29,
   "id": "77fe53b9-ed74-4c20-a6a6-7df0fc5bcf13",
   "metadata": {},
   "outputs": [],
   "source": [
    "# V1 MNIST - Mix of linear and non-linear layers\n",
    "\n",
    "class MNISTModelV1(nn.Module):\n",
    "    def __init__(self, input_shape, hidden_units, output_shape):\n",
    "        super().__init__()\n",
    "        self.layer_stack = nn.Sequential(\n",
    "            nn.Flatten(),\n",
    "            nn.Linear(in_features=input_shape, out_features=hidden_units),\n",
    "            nn.ReLU(),\n",
    "            nn.Linear(in_features=hidden_units, out_features=output_shape),\n",
    "            nn.ReLU()\n",
    "        )\n",
    "\n",
    "    def forward(self, x):\n",
    "        return self.layer_stack(x)"
   ]
  },
  {
   "cell_type": "code",
   "execution_count": 30,
   "id": "7b2ec249-ef66-4b15-8c5c-a7555a19f561",
   "metadata": {},
   "outputs": [
    {
     "data": {
      "text/plain": [
       "device(type='cpu')"
      ]
     },
     "execution_count": 30,
     "metadata": {},
     "output_type": "execute_result"
    }
   ],
   "source": [
    "torch.manual_seed(13)\n",
    "\n",
    "model_1 = MNISTModelV1(\n",
    "    input_shape=28*28, # number of input features\n",
    "    hidden_units=10,\n",
    "    output_shape=len(class_names) # number of output classes desired\n",
    ").to(device) # send model to GPU if it's available\n",
    "\n",
    "next(model_1.parameters()).device # check model device"
   ]
  },
  {
   "cell_type": "code",
   "execution_count": 31,
   "id": "cb790919-8eec-42d8-86d4-a72c416f49fa",
   "metadata": {},
   "outputs": [],
   "source": [
    "from helper_functions import accuracy_fn\n",
    "\n",
    "loss_fn = nn.CrossEntropyLoss()\n",
    "optimizer = torch.optim.SGD(\n",
    "    params=model_1.parameters(), \n",
    "    lr=0.1\n",
    ")"
   ]
  },
  {
   "cell_type": "code",
   "execution_count": 32,
   "id": "07de9171-616a-4e77-a21e-699ad239a020",
   "metadata": {},
   "outputs": [],
   "source": [
    "def train_step(model: torch.nn.Module,\n",
    "               data_loader: torch.utils.data.DataLoader,\n",
    "               loss_fn: torch.nn.Module,\n",
    "               optimizer: torch.optim.Optimizer,\n",
    "               accuracy_fn,\n",
    "               device: torch.device = device):\n",
    "    train_loss, train_acc = 0, 0\n",
    "    model.to(device)\n",
    "    for batch, (X, y) in enumerate(data_loader):\n",
    "        # Send data to GPU\n",
    "        X, y = X.to(device), y.to(device)\n",
    "\n",
    "        # 1. Forward pass\n",
    "        y_pred = model(X)\n",
    "\n",
    "        # 2. Calculate loss\n",
    "        loss = loss_fn(y_pred, y)\n",
    "        train_loss += loss\n",
    "        train_acc += accuracy_fn(y_true=y,\n",
    "                                 y_pred=y_pred.argmax(dim=1)) # Go from logits -> pred labels\n",
    "\n",
    "        # 3. Optimizer zero grad\n",
    "        optimizer.zero_grad()\n",
    "\n",
    "        # 4. Loss backward\n",
    "        loss.backward()\n",
    "\n",
    "        # 5. Optimizer step\n",
    "        optimizer.step()\n",
    "\n",
    "    # Calculate loss and accuracy per epoch and print out what's happening\n",
    "    train_loss /= len(data_loader)\n",
    "    train_acc /= len(data_loader)\n",
    "    print(f\"Train loss: {train_loss:.5f} | Train accuracy: {train_acc:.2f}%\")\n",
    "\n",
    "def test_step(data_loader: torch.utils.data.DataLoader,\n",
    "              model: torch.nn.Module,\n",
    "              loss_fn: torch.nn.Module,\n",
    "              accuracy_fn,\n",
    "              device: torch.device = device):\n",
    "    test_loss, test_acc = 0, 0\n",
    "    model.to(device)\n",
    "    model.eval() # put model in eval mode\n",
    "    # Turn on inference context manager\n",
    "    with torch.inference_mode(): \n",
    "        for X, y in data_loader:\n",
    "            # Send data to GPU\n",
    "            X, y = X.to(device), y.to(device)\n",
    "            \n",
    "            # 1. Forward pass\n",
    "            test_pred = model(X)\n",
    "            \n",
    "            # 2. Calculate loss and accuracy\n",
    "            test_loss += loss_fn(test_pred, y)\n",
    "            test_acc += accuracy_fn(y_true=y,\n",
    "                y_pred=test_pred.argmax(dim=1) # Go from logits -> pred labels\n",
    "            )\n",
    "        \n",
    "        # Adjust metrics and print out\n",
    "        test_loss /= len(data_loader)\n",
    "        test_acc /= len(data_loader)\n",
    "        print(f\"Test loss: {test_loss:.5f} | Test accuracy: {test_acc:.2f}%\\n\")"
   ]
  },
  {
   "cell_type": "code",
   "execution_count": 33,
   "id": "c976981c-9550-41a8-b8ff-e7442cb9af31",
   "metadata": {},
   "outputs": [
    {
     "name": "stderr",
     "output_type": "stream",
     "text": [
      "  0%|          | 0/3 [00:00<?, ?it/s]"
     ]
    },
    {
     "name": "stdout",
     "output_type": "stream",
     "text": [
      "Epoch: 0\n",
      "---------\n"
     ]
    },
    {
     "name": "stderr",
     "output_type": "stream",
     "text": [
      " 33%|███▎      | 1/3 [00:01<00:03,  1.58s/it]"
     ]
    },
    {
     "name": "stdout",
     "output_type": "stream",
     "text": [
      "Train loss: 0.85432 | Train accuracy: 69.84%\n",
      "Test loss: 0.72263 | Test accuracy: 73.01%\n",
      "\n",
      "Epoch: 1\n",
      "---------\n"
     ]
    },
    {
     "name": "stderr",
     "output_type": "stream",
     "text": [
      " 67%|██████▋   | 2/3 [00:03<00:01,  1.57s/it]"
     ]
    },
    {
     "name": "stdout",
     "output_type": "stream",
     "text": [
      "Train loss: 0.64098 | Train accuracy: 76.98%\n",
      "Test loss: 0.51245 | Test accuracy: 81.74%\n",
      "\n",
      "Epoch: 2\n",
      "---------\n"
     ]
    },
    {
     "name": "stderr",
     "output_type": "stream",
     "text": [
      "100%|██████████| 3/3 [00:04<00:00,  1.57s/it]"
     ]
    },
    {
     "name": "stdout",
     "output_type": "stream",
     "text": [
      "Train loss: 0.50949 | Train accuracy: 82.08%\n",
      "Test loss: 0.49650 | Test accuracy: 82.26%\n",
      "\n",
      "Train time on cpu: 4.725 seconds\n"
     ]
    },
    {
     "name": "stderr",
     "output_type": "stream",
     "text": [
      "\n"
     ]
    }
   ],
   "source": [
    "torch.manual_seed(13)\n",
    "\n",
    "# Measure time\n",
    "from timeit import default_timer as timer\n",
    "train_time_start_on_gpu = timer()\n",
    "\n",
    "epochs = 3\n",
    "for epoch in tqdm(range(epochs)):\n",
    "    print(f\"Epoch: {epoch}\\n---------\")\n",
    "    train_step(data_loader=train_dataloader, \n",
    "        model=model_1, \n",
    "        loss_fn=loss_fn,\n",
    "        optimizer=optimizer,\n",
    "        accuracy_fn=accuracy_fn\n",
    "    )\n",
    "    test_step(data_loader=test_dataloader,\n",
    "        model=model_1,\n",
    "        loss_fn=loss_fn,\n",
    "        accuracy_fn=accuracy_fn\n",
    "    )\n",
    "\n",
    "train_time_end_on_gpu = timer()\n",
    "\n",
    "total_train_time_model_1 = print_train_time(\n",
    "    start=train_time_start_on_gpu,\n",
    "    end=train_time_end_on_gpu,\n",
    "    device=device\n",
    ")"
   ]
  },
  {
   "cell_type": "code",
   "execution_count": 34,
   "id": "272a7709-eb22-40e3-8416-975d1445b630",
   "metadata": {},
   "outputs": [
    {
     "data": {
      "text/plain": [
       "{'model_name': 'MNISTModelV1',\n",
       " 'model_loss': 0.4964990019798279,\n",
       " 'model_acc': 82.25838658146965}"
      ]
     },
     "execution_count": 34,
     "metadata": {},
     "output_type": "execute_result"
    }
   ],
   "source": [
    "# Move values to device\n",
    "torch.manual_seed(13)\n",
    "\n",
    "def eval_model(model: torch.nn.Module, \n",
    "               data_loader: torch.utils.data.DataLoader, \n",
    "               loss_fn: torch.nn.Module, \n",
    "               accuracy_fn, \n",
    "               device: torch.device = device):\n",
    "    \"\"\"Evaluates a given model on a given dataset.\n",
    "\n",
    "    Args:\n",
    "        model (torch.nn.Module): A PyTorch model capable of making predictions on data_loader.\n",
    "        data_loader (torch.utils.data.DataLoader): The target dataset to predict on.\n",
    "        loss_fn (torch.nn.Module): The loss function of model.\n",
    "        accuracy_fn: An accuracy function to compare the models predictions to the truth labels.\n",
    "        device (str, optional): Target device to compute on. Defaults to device.\n",
    "\n",
    "    Returns:\n",
    "        (dict): Results of model making predictions on data_loader.\n",
    "    \"\"\"\n",
    "    loss, acc = 0, 0\n",
    "    model.eval()\n",
    "    with torch.inference_mode():\n",
    "        for X, y in data_loader:\n",
    "            # Send data to the target device\n",
    "            X, y = X.to(device), y.to(device)\n",
    "            y_pred = model(X)\n",
    "            loss += loss_fn(y_pred, y)\n",
    "            acc += accuracy_fn(y_true=y, y_pred=y_pred.argmax(dim=1))\n",
    "        \n",
    "        # Scale loss and acc\n",
    "        loss /= len(data_loader)\n",
    "        acc /= len(data_loader)\n",
    "    return {\"model_name\": model.__class__.__name__, # only works when model was created with a class\n",
    "            \"model_loss\": loss.item(),\n",
    "            \"model_acc\": acc}\n",
    "\n",
    "# Calculate model 1 results with device-agnostic code \n",
    "model_1_results = eval_model(model=model_1, data_loader=test_dataloader,\n",
    "    loss_fn=loss_fn, accuracy_fn=accuracy_fn,\n",
    "    device=device\n",
    ")\n",
    "model_1_results"
   ]
  },
  {
   "cell_type": "code",
   "execution_count": 53,
   "id": "d478acec-c53e-425d-b8be-758a755fb6cf",
   "metadata": {},
   "outputs": [
    {
     "data": {
      "text/plain": [
       "MNISTModelV2(\n",
       "  (block1): Sequential(\n",
       "    (0): Conv2d(1, 10, kernel_size=(3, 3), stride=(1, 1), padding=(1, 1))\n",
       "    (1): ReLU()\n",
       "    (2): Conv2d(10, 10, kernel_size=(3, 3), stride=(1, 1), padding=(1, 1))\n",
       "    (3): ReLU()\n",
       "    (4): MaxPool2d(kernel_size=2, stride=2, padding=0, dilation=1, ceil_mode=False)\n",
       "  )\n",
       "  (block2): Sequential(\n",
       "    (0): Conv2d(10, 10, kernel_size=(3, 3), stride=(1, 1), padding=(1, 1))\n",
       "    (1): ReLU()\n",
       "    (2): Conv2d(10, 10, kernel_size=(3, 3), stride=(1, 1), padding=(1, 1))\n",
       "    (3): ReLU()\n",
       "    (4): MaxPool2d(kernel_size=2, stride=2, padding=0, dilation=1, ceil_mode=False)\n",
       "  )\n",
       "  (classifier): Sequential(\n",
       "    (0): Flatten(start_dim=1, end_dim=-1)\n",
       "    (1): Linear(in_features=490, out_features=10, bias=True)\n",
       "  )\n",
       ")"
      ]
     },
     "execution_count": 53,
     "metadata": {},
     "output_type": "execute_result"
    }
   ],
   "source": [
    "# V2 of MNIST - Integrating a CNN (architecture) from CNN explainer (poloclub)\n",
    "\n",
    "class MNISTModelV2(nn.Module):\n",
    "    def __init__(self, input_shape, hidden_units, output_shape):\n",
    "        super().__init__()\n",
    "        \n",
    "        self.block1 = nn.Sequential(\n",
    "            nn.Conv2d(\n",
    "                in_channels=input_shape,\n",
    "                out_channels=hidden_units,\n",
    "                kernel_size=3,\n",
    "                stride=1,\n",
    "                padding=1\n",
    "            ),\n",
    "            nn.ReLU(),\n",
    "            nn.Conv2d(\n",
    "                in_channels=hidden_units,\n",
    "                out_channels=hidden_units,\n",
    "                kernel_size=3,\n",
    "                stride=1,\n",
    "                padding=1\n",
    "            ),\n",
    "            nn.ReLU(),\n",
    "            nn.MaxPool2d(\n",
    "                kernel_size=2,\n",
    "                stride=2\n",
    "            )\n",
    "        )\n",
    "\n",
    "        self.block2 = nn.Sequential(\n",
    "            nn.Conv2d(\n",
    "                in_channels=hidden_units,\n",
    "                out_channels=hidden_units,\n",
    "                kernel_size=3,\n",
    "                padding=1\n",
    "            ),\n",
    "            nn.ReLU(),\n",
    "            nn.Conv2d(\n",
    "                in_channels=hidden_units,\n",
    "                out_channels=hidden_units,\n",
    "                kernel_size=3,\n",
    "                padding=1\n",
    "            ),\n",
    "            nn.ReLU(),\n",
    "            nn.MaxPool2d(2)\n",
    "        )\n",
    "\n",
    "        self.classifier = nn.Sequential(\n",
    "            nn.Flatten(),\n",
    "            nn.Linear(\n",
    "                in_features=hidden_units*7*7,\n",
    "                out_features=output_shape\n",
    "            )\n",
    "        )\n",
    "\n",
    "    def forward(self, x):\n",
    "        x = self.block1(x)\n",
    "        x = self.block2(x)\n",
    "        x = self.classifier(x)\n",
    "        return x\n",
    "\n",
    "\n",
    "torch.manual_seed(13)\n",
    "model_2 = MNISTModelV2(\n",
    "    input_shape=1,\n",
    "    hidden_units=10,\n",
    "    output_shape=len(class_names)\n",
    ").to(device)\n",
    "\n",
    "model_2"
   ]
  },
  {
   "cell_type": "code",
   "execution_count": 54,
   "id": "74f3d0c5-a67c-4d3a-bd79-93911d2968c5",
   "metadata": {},
   "outputs": [
    {
     "data": {
      "text/plain": [
       "=================================================================\n",
       "Layer (type:depth-idx)                   Param #\n",
       "=================================================================\n",
       "MNISTModelV2                             --\n",
       "├─Sequential: 1-1                        --\n",
       "│    └─Conv2d: 2-1                       100\n",
       "│    └─ReLU: 2-2                         --\n",
       "│    └─Conv2d: 2-3                       910\n",
       "│    └─ReLU: 2-4                         --\n",
       "│    └─MaxPool2d: 2-5                    --\n",
       "├─Sequential: 1-2                        --\n",
       "│    └─Conv2d: 2-6                       910\n",
       "│    └─ReLU: 2-7                         --\n",
       "│    └─Conv2d: 2-8                       910\n",
       "│    └─ReLU: 2-9                         --\n",
       "│    └─MaxPool2d: 2-10                   --\n",
       "├─Sequential: 1-3                        --\n",
       "│    └─Flatten: 2-11                     --\n",
       "│    └─Linear: 2-12                      4,910\n",
       "=================================================================\n",
       "Total params: 7,740\n",
       "Trainable params: 7,740\n",
       "Non-trainable params: 0\n",
       "================================================================="
      ]
     },
     "execution_count": 54,
     "metadata": {},
     "output_type": "execute_result"
    }
   ],
   "source": [
    "from torchinfo import summary\n",
    "\n",
    "summary(model_2)"
   ]
  },
  {
   "cell_type": "code",
   "execution_count": 39,
   "id": "ddb5ba7d-bdd0-416a-8fea-36674d2a7c9c",
   "metadata": {},
   "outputs": [
    {
     "name": "stdout",
     "output_type": "stream",
     "text": [
      "Image batch shape: torch.Size([32, 3, 64, 64]) -> [batch_size, color_channels, height, width]\n",
      "Single image shape: torch.Size([3, 64, 64]) -> [color_channels, height, width]\n",
      "Single image pixel values:\n",
      "tensor([[[ 4.3716e-01,  3.7006e-01,  1.5816e+00,  ...,  1.4596e+00,\n",
      "           1.0305e+00,  8.7925e-01],\n",
      "         [ 3.2857e-01, -7.4203e-02,  1.4140e-01,  ...,  1.3435e+00,\n",
      "          -1.4151e+00, -2.7602e-01],\n",
      "         [ 2.6306e-01,  6.2724e-01,  1.9222e+00,  ..., -9.3032e-01,\n",
      "          -9.5611e-01,  1.9313e-01],\n",
      "         ...,\n",
      "         [-8.8858e-01,  1.6535e+00, -7.2044e-01,  ...,  3.3740e-01,\n",
      "           9.2738e-01,  3.3661e-01],\n",
      "         [ 5.8823e-01, -9.9540e-01,  4.5591e-01,  ..., -9.8666e-01,\n",
      "          -4.4846e-01, -9.2301e-01],\n",
      "         [ 1.5960e-01, -1.5032e+00, -9.1574e-01,  ..., -7.9554e-01,\n",
      "          -6.0971e-01,  1.4942e+00]],\n",
      "\n",
      "        [[ 4.9323e-01, -2.2652e-01, -1.6340e-01,  ...,  1.1911e+00,\n",
      "          -1.3160e+00,  2.5456e-03],\n",
      "         [-8.5170e-01,  5.3452e-01,  2.3352e-01,  ...,  3.7567e-01,\n",
      "          -2.4935e-01, -1.9656e-01],\n",
      "         [ 8.3787e-01, -1.0959e+00,  4.2139e-01,  ..., -3.0100e-01,\n",
      "           8.7711e-01, -1.7989e-01],\n",
      "         ...,\n",
      "         [-2.3879e+00, -2.2592e-01, -2.2116e+00,  ...,  1.1910e+00,\n",
      "          -6.5620e-01,  1.6256e+00],\n",
      "         [-4.1130e-01,  5.8841e-01,  1.2575e-03,  ..., -9.7799e-02,\n",
      "          -6.3047e-02,  8.2495e-01],\n",
      "         [ 3.9511e-01, -6.6438e-01, -6.7858e-01,  ..., -4.4078e-01,\n",
      "           1.4799e+00, -1.8194e+00]],\n",
      "\n",
      "        [[ 8.4620e-01,  2.4091e-01, -9.7828e-02,  ...,  1.8091e+00,\n",
      "          -5.9376e-01, -2.8253e-01],\n",
      "         [ 8.1480e-02, -1.3381e+00,  2.4709e-01,  ..., -4.9019e-01,\n",
      "           1.5601e+00, -1.3050e+00],\n",
      "         [ 6.4085e-01,  5.0120e-01, -1.7345e+00,  ..., -1.1725e+00,\n",
      "           7.5609e-01, -8.8683e-01],\n",
      "         ...,\n",
      "         [ 9.5882e-01,  1.3801e+00,  2.0005e+00,  ...,  1.6657e+00,\n",
      "          -6.6961e-01,  1.7678e-01],\n",
      "         [ 1.8655e-01, -9.5493e-01,  3.0688e-01,  ..., -9.0863e-01,\n",
      "           7.5004e-01,  2.4657e+00],\n",
      "         [-5.0599e-01, -5.0048e-01,  2.0690e+00,  ...,  7.4684e-02,\n",
      "           3.6706e-01,  1.6795e-01]]])\n"
     ]
    }
   ],
   "source": [
    "torch.manual_seed(13)\n",
    "\n",
    "# Create sample batch of random numbers with same size as image batch\n",
    "images = torch.randn(size=(32, 3, 64, 64)) # [batch_size, color_channels, height, width]\n",
    "test_image = images[0] # get a single image for testing\n",
    "print(f\"Image batch shape: {images.shape} -> [batch_size, color_channels, height, width]\")\n",
    "print(f\"Single image shape: {test_image.shape} -> [color_channels, height, width]\") \n",
    "print(f\"Single image pixel values:\\n{test_image}\")"
   ]
  },
  {
   "cell_type": "code",
   "execution_count": 48,
   "id": "5e5b9ed3-8b3c-4fbb-bfef-8c7b1b850859",
   "metadata": {},
   "outputs": [
    {
     "data": {
      "text/plain": [
       "torch.Size([10, 62, 62])"
      ]
     },
     "execution_count": 48,
     "metadata": {},
     "output_type": "execute_result"
    }
   ],
   "source": [
    "torch.manual_seed(13)\n",
    "\n",
    "# Create a convolutional layer with same dimensions as TinyVGG \n",
    "# (try changing any of the parameters and see what happens)\n",
    "conv_layer = nn.Conv2d(in_channels=3,\n",
    "                       out_channels=10,\n",
    "                       kernel_size=3,\n",
    "                       stride=1,\n",
    "                       padding=0) # also try using \"valid\" or \"same\" here \n",
    "\n",
    "# Pass the data through the convolutional layer\n",
    "conv_layer(test_image).shape"
   ]
  },
  {
   "cell_type": "code",
   "execution_count": 43,
   "id": "85ccb32a-da22-448f-96e0-2b779d4825e2",
   "metadata": {},
   "outputs": [
    {
     "data": {
      "text/plain": [
       "torch.Size([10, 30, 30])"
      ]
     },
     "execution_count": 43,
     "metadata": {},
     "output_type": "execute_result"
    }
   ],
   "source": [
    "torch.manual_seed(13)\n",
    "\n",
    "# Create a convolutional layer with same dimensions as TinyVGG \n",
    "# (try changing any of the parameters and see what happens)\n",
    "conv_layer2 = nn.Conv2d(in_channels=3,\n",
    "                       out_channels=10,\n",
    "                       kernel_size=(5,5),\n",
    "                       stride=2,\n",
    "                       padding=0) # also try using \"valid\" or \"same\" here \n",
    "\n",
    "# Pass the data through the convolutional layer\n",
    "conv_layer2(test_image).shape"
   ]
  },
  {
   "cell_type": "code",
   "execution_count": 44,
   "id": "c9cb9cef-5edc-4a24-9788-9665fb786d3f",
   "metadata": {},
   "outputs": [
    {
     "data": {
      "text/plain": [
       "OrderedDict([('weight',\n",
       "              tensor([[[[-9.4266e-02, -4.7618e-03,  7.1719e-02, -1.1198e-01, -1.1194e-01],\n",
       "                        [ 2.3918e-02, -6.1939e-02,  8.3898e-02,  1.1221e-01, -6.9858e-02],\n",
       "                        [-9.6301e-02, -1.7240e-02,  9.5810e-02, -4.6427e-03,  8.0336e-03],\n",
       "                        [-5.3240e-02, -5.7038e-02, -3.7181e-02,  7.7750e-02, -8.5706e-02],\n",
       "                        [ 1.0839e-01, -1.1659e-02, -2.2386e-02,  7.3955e-02,  1.1067e-01]],\n",
       "              \n",
       "                       [[-3.9765e-02, -2.1338e-02,  5.2568e-02, -1.1401e-02, -6.1577e-02],\n",
       "                        [-1.0598e-01, -5.9087e-02,  2.4864e-02,  7.5589e-02,  1.1103e-01],\n",
       "                        [-5.2852e-02, -2.0861e-02, -4.6130e-02,  5.3913e-02, -7.8860e-02],\n",
       "                        [ 1.0811e-01, -1.0291e-01,  6.5159e-02, -2.0490e-02,  6.1012e-02],\n",
       "                        [ 7.5601e-02,  1.0386e-01, -3.3419e-02, -7.6825e-02,  8.1921e-02]],\n",
       "              \n",
       "                       [[ 3.7330e-02,  1.9215e-02, -6.0916e-02,  9.7943e-02,  4.5320e-02],\n",
       "                        [ 6.0415e-03, -6.2071e-02,  3.3157e-02, -8.6886e-02,  2.6795e-02],\n",
       "                        [-9.5300e-02, -2.5659e-02, -2.6866e-02, -2.9512e-02, -1.0333e-01],\n",
       "                        [-1.0869e-01, -2.9763e-02,  1.8880e-02,  8.0863e-02,  1.0721e-01],\n",
       "                        [ 2.9325e-02, -1.0236e-01, -1.1476e-01, -4.6386e-02, -6.3151e-02]]],\n",
       "              \n",
       "              \n",
       "                      [[[ 1.1720e-02, -3.8898e-02, -7.3434e-02, -9.3991e-02,  2.7855e-02],\n",
       "                        [ 9.4932e-02, -6.0741e-02, -1.0761e-01,  1.0456e-01, -8.1003e-02],\n",
       "                        [ 6.0929e-02,  1.9810e-02,  8.2222e-02, -5.3123e-02,  5.1051e-02],\n",
       "                        [ 6.1460e-02,  6.1285e-02, -9.0223e-02,  3.0123e-02,  6.0493e-02],\n",
       "                        [-9.6352e-02,  5.2877e-02,  2.8711e-02, -2.6124e-02, -7.9527e-03]],\n",
       "              \n",
       "                       [[ 3.1819e-02, -1.0054e-01, -3.3582e-02, -8.4349e-02, -4.0546e-02],\n",
       "                        [-6.7720e-02, -5.0616e-02,  8.7469e-02,  8.3862e-02,  7.7440e-02],\n",
       "                        [ 8.2535e-02, -7.9818e-02, -1.0286e-01, -8.7063e-04, -9.0787e-02],\n",
       "                        [ 1.0163e-01,  7.8678e-02,  2.4681e-02,  3.1090e-02, -5.6113e-02],\n",
       "                        [-5.0675e-04,  6.7427e-03,  2.7881e-02,  2.4072e-02,  1.0747e-01]],\n",
       "              \n",
       "                       [[-5.0991e-02,  6.0458e-02,  1.3460e-02, -9.5384e-02,  5.6610e-02],\n",
       "                        [ 8.6726e-02,  1.1255e-01,  2.3989e-02, -2.3420e-02, -5.1213e-02],\n",
       "                        [ 8.3241e-02, -8.2158e-02, -7.2036e-02,  1.0285e-01, -5.9797e-03],\n",
       "                        [ 5.8814e-02,  1.4059e-02, -3.7948e-02,  1.3960e-02,  6.5236e-02],\n",
       "                        [-6.6929e-03, -1.8825e-02, -3.2315e-02, -1.1397e-01,  2.8857e-02]]],\n",
       "              \n",
       "              \n",
       "                      [[[-3.6360e-02, -9.3319e-02,  9.4163e-02,  5.5225e-02,  3.0767e-03],\n",
       "                        [-6.0773e-02, -1.7966e-02,  7.2143e-02, -3.1364e-02,  5.6486e-02],\n",
       "                        [-2.9346e-03,  1.0030e-01, -1.0871e-01,  3.4564e-02, -1.1241e-01],\n",
       "                        [ 1.0616e-01,  4.7418e-02,  8.8938e-02,  2.7326e-02,  1.1424e-01],\n",
       "                        [ 1.1243e-01, -1.1697e-02,  9.2887e-02,  2.8171e-02, -9.0814e-02]],\n",
       "              \n",
       "                       [[ 5.4611e-02,  2.6973e-02,  6.3709e-02,  2.6484e-02,  7.0115e-03],\n",
       "                        [-6.7669e-02,  4.1607e-02, -3.0490e-02,  3.8882e-02,  1.1133e-01],\n",
       "                        [ 1.0426e-01,  2.1456e-02, -1.0237e-02, -1.9796e-02,  9.1071e-02],\n",
       "                        [ 5.5462e-02, -4.7912e-03,  1.0771e-01,  1.2434e-02,  1.0681e-01],\n",
       "                        [-7.8630e-02, -1.5377e-02,  1.1168e-01,  1.0969e-01,  2.7317e-02]],\n",
       "              \n",
       "                       [[-3.1971e-02, -5.0032e-02,  1.2264e-02,  2.2255e-02, -9.3135e-02],\n",
       "                        [ 5.3658e-02,  7.1216e-02,  1.0108e-01, -1.8369e-03, -1.0797e-01],\n",
       "                        [-2.3465e-02,  2.3940e-03, -3.2328e-02,  9.3208e-02, -4.7429e-02],\n",
       "                        [-7.3836e-03, -8.7498e-02,  4.1979e-03, -4.4960e-02, -7.2706e-02],\n",
       "                        [ 8.5064e-02,  4.7173e-02, -9.2301e-02, -1.0840e-01,  7.1763e-02]]],\n",
       "              \n",
       "              \n",
       "                      [[[ 2.5227e-02,  1.1700e-02,  5.3014e-02,  9.6176e-03,  7.0388e-02],\n",
       "                        [ 3.6572e-02,  7.3314e-02, -8.6327e-02, -1.0298e-01, -6.3092e-02],\n",
       "                        [ 7.8637e-02,  9.0724e-03,  1.1080e-01,  8.3067e-02,  2.2568e-02],\n",
       "                        [ 3.0829e-02,  6.7859e-02,  8.6732e-03,  7.0183e-02,  3.5177e-02],\n",
       "                        [-1.0869e-01,  5.3103e-02,  7.7693e-02, -2.7861e-02,  4.7085e-02]],\n",
       "              \n",
       "                       [[-4.4957e-02,  4.7472e-02, -1.0629e-01,  2.6079e-02, -2.1166e-02],\n",
       "                        [ 6.2322e-02,  1.0366e-01, -1.4803e-02,  1.5277e-02,  1.3763e-03],\n",
       "                        [-1.7313e-02, -4.3936e-02,  1.0219e-02, -8.9758e-02, -8.7582e-02],\n",
       "                        [-4.6497e-02, -6.4459e-02,  6.1469e-02, -2.1606e-02,  1.0524e-01],\n",
       "                        [ 6.3940e-02,  2.4924e-02, -1.7786e-02,  5.6430e-02,  2.6353e-04]],\n",
       "              \n",
       "                       [[ 4.3804e-02, -4.7347e-02, -1.7557e-02, -7.6166e-02, -1.8507e-02],\n",
       "                        [-7.0479e-02, -9.1653e-02, -7.1034e-02,  1.8591e-03,  6.4476e-04],\n",
       "                        [-3.2794e-02,  4.6882e-02,  7.5780e-03, -7.3461e-02,  3.0257e-02],\n",
       "                        [-4.5556e-02,  4.9255e-03,  4.0939e-02,  3.7565e-02,  1.1197e-01],\n",
       "                        [ 5.1191e-03,  1.1526e-01, -6.5456e-02,  8.6775e-02, -3.7348e-02]]],\n",
       "              \n",
       "              \n",
       "                      [[[ 5.2658e-02, -1.0273e-01,  7.7937e-03,  3.7817e-02,  8.0414e-02],\n",
       "                        [-9.6527e-02, -1.1307e-01, -7.5221e-02,  4.9187e-02,  9.2111e-03],\n",
       "                        [-9.9576e-02, -8.5865e-03,  5.5352e-02, -9.7908e-02, -7.8658e-02],\n",
       "                        [ 9.4221e-02, -4.2310e-02, -6.8039e-02, -1.1539e-02, -1.0182e-01],\n",
       "                        [-7.6199e-02, -8.6072e-02, -2.2441e-02,  1.6970e-02, -2.1248e-02]],\n",
       "              \n",
       "                       [[ 5.7460e-02, -9.1951e-02,  7.9993e-02,  1.1384e-01, -8.2888e-02],\n",
       "                        [-2.9599e-02,  4.1310e-02,  6.8597e-02,  1.0187e-01, -1.4291e-02],\n",
       "                        [-5.0239e-02,  7.0464e-02,  9.9867e-02,  1.0686e-01, -3.1537e-02],\n",
       "                        [-6.8093e-03, -5.0300e-02, -5.2201e-02, -1.6252e-02,  4.7186e-03],\n",
       "                        [ 1.1430e-01,  5.8375e-03,  8.2663e-02,  9.0955e-02,  1.7839e-02]],\n",
       "              \n",
       "                       [[-4.2751e-02, -7.3374e-02,  1.7965e-02, -4.7538e-02, -8.4949e-02],\n",
       "                        [-2.6771e-02,  1.1385e-01, -1.0819e-02, -3.9875e-02, -1.0788e-01],\n",
       "                        [ 6.6209e-02, -6.1521e-03, -9.3401e-02, -9.7180e-02,  3.1044e-03],\n",
       "                        [ 1.1155e-02,  1.0246e-01, -6.2626e-02,  2.7758e-02, -9.9121e-02],\n",
       "                        [-2.2907e-02, -1.0150e-01,  6.9754e-02,  5.6391e-02,  9.5046e-02]]],\n",
       "              \n",
       "              \n",
       "                      [[[ 8.5470e-02,  7.5268e-02,  3.5764e-02, -1.6026e-02,  3.7840e-02],\n",
       "                        [-2.5618e-02, -5.5513e-02, -2.8263e-02,  1.5795e-02,  1.0023e-01],\n",
       "                        [-5.8640e-02,  4.0657e-02, -2.0023e-02,  6.2027e-02,  7.3642e-02],\n",
       "                        [-7.1800e-03,  5.4455e-02, -1.5903e-02,  3.9309e-03,  9.0413e-03],\n",
       "                        [-5.7385e-02,  5.2758e-02, -1.1344e-01,  6.1586e-03,  9.0034e-02]],\n",
       "              \n",
       "                       [[-5.7973e-02,  5.3983e-02, -4.9690e-02, -6.5761e-03, -8.3541e-03],\n",
       "                        [ 2.4288e-02, -6.4956e-02,  5.1492e-02,  9.0334e-02, -8.4086e-02],\n",
       "                        [ 6.6149e-02,  4.3102e-02, -1.0356e-01, -6.3447e-03, -6.5637e-02],\n",
       "                        [ 6.4662e-02, -1.0546e-01, -8.3809e-02, -6.0190e-02, -7.6587e-02],\n",
       "                        [ 5.5717e-02, -2.8963e-02,  1.1069e-01,  9.0578e-02, -7.5922e-02]],\n",
       "              \n",
       "                       [[-8.8614e-02,  5.1548e-02, -4.1894e-02, -6.6592e-02, -1.4284e-02],\n",
       "                        [-9.1521e-02,  2.1938e-02, -1.0572e-01,  1.1147e-01,  9.2003e-02],\n",
       "                        [ 1.0698e-01, -4.8628e-02, -9.5619e-02,  1.8940e-03,  2.7919e-02],\n",
       "                        [ 1.1243e-01, -6.7007e-02, -1.6772e-02, -6.5195e-02, -1.1424e-01],\n",
       "                        [ 7.1579e-02,  6.3364e-02,  2.2399e-02,  7.4491e-02,  7.1204e-02]]],\n",
       "              \n",
       "              \n",
       "                      [[[ 4.9123e-02, -9.5412e-02, -8.9621e-02,  7.3322e-02, -1.0909e-01],\n",
       "                        [-1.1623e-02, -1.0442e-02, -9.5372e-02,  1.4232e-02,  1.1496e-01],\n",
       "                        [ 9.5160e-02,  6.8510e-03,  8.4170e-02, -7.2625e-02, -3.5429e-02],\n",
       "                        [-1.0980e-02, -5.0419e-02,  9.8118e-02, -5.3191e-02, -6.6633e-02],\n",
       "                        [ 5.8591e-02,  5.1645e-02,  1.4008e-02, -9.4272e-02,  4.4681e-05]],\n",
       "              \n",
       "                       [[ 6.6284e-02, -3.1110e-02, -2.1439e-02, -1.1540e-01,  6.5311e-02],\n",
       "                        [-2.3078e-02,  8.7751e-02,  8.8713e-02,  6.8071e-02, -1.1337e-01],\n",
       "                        [ 5.6141e-02, -6.3518e-02,  9.0294e-03, -1.1989e-02, -2.0121e-02],\n",
       "                        [ 3.5600e-02,  5.2606e-02,  2.8555e-03, -1.4174e-02,  5.4869e-02],\n",
       "                        [ 2.7292e-02,  6.5911e-02,  1.2179e-02,  6.4459e-02,  4.0102e-02]],\n",
       "              \n",
       "                       [[ 4.2054e-02, -8.5928e-02, -7.5757e-02, -7.1546e-02, -5.4637e-02],\n",
       "                        [ 4.8311e-02,  9.3399e-02, -2.8692e-02,  5.5228e-02,  3.0288e-02],\n",
       "                        [-1.9105e-02, -2.1510e-02, -1.9232e-02,  5.2217e-02, -4.8854e-02],\n",
       "                        [ 2.6309e-02,  1.2547e-02,  7.9258e-02, -7.1048e-02,  1.0171e-01],\n",
       "                        [ 7.1915e-02,  6.4966e-02, -1.4037e-02, -1.0014e-01, -2.7161e-03]]],\n",
       "              \n",
       "              \n",
       "                      [[[ 9.4733e-02,  4.7730e-02,  4.4184e-02, -1.0909e-01, -9.1001e-02],\n",
       "                        [-2.9612e-02, -3.7362e-02,  5.1320e-02, -5.6093e-03, -1.4079e-03],\n",
       "                        [-1.5274e-02, -3.5885e-02, -9.8674e-02, -3.1987e-02,  1.3346e-02],\n",
       "                        [-9.4532e-02, -1.3197e-02, -4.9710e-02,  2.0467e-02,  1.0887e-01],\n",
       "                        [-8.6661e-02,  2.6970e-03, -3.5316e-02, -6.3754e-02, -7.4454e-02]],\n",
       "              \n",
       "                       [[-9.5425e-03,  1.1328e-01,  1.0321e-02,  3.2311e-02,  1.7508e-02],\n",
       "                        [ 1.1088e-01,  3.6109e-02,  9.1240e-02, -2.4941e-02,  3.7375e-02],\n",
       "                        [ 7.4405e-02,  7.6142e-02, -8.3897e-02,  7.2046e-02, -9.3114e-02],\n",
       "                        [ 8.1528e-02, -2.2845e-02, -1.0940e-03,  6.7044e-04, -9.9886e-03],\n",
       "                        [-6.0512e-02, -4.1857e-02, -2.2464e-02,  1.0200e-01,  8.9777e-02]],\n",
       "              \n",
       "                       [[-8.5075e-02,  9.2867e-02,  5.9919e-02,  1.1099e-01,  9.4121e-02],\n",
       "                        [-2.5901e-02, -9.4701e-03,  5.0629e-02,  1.0583e-01, -5.9027e-02],\n",
       "                        [-7.3636e-02, -4.6468e-02,  1.0121e-01,  8.1321e-02, -3.3556e-02],\n",
       "                        [-2.3788e-02,  1.7699e-02,  3.1850e-02,  1.0703e-01,  1.0509e-01],\n",
       "                        [-9.1646e-02,  1.0978e-01, -2.4725e-02,  4.6227e-02, -1.8597e-02]]],\n",
       "              \n",
       "              \n",
       "                      [[[ 4.3947e-02,  9.8681e-02, -1.1040e-01,  1.6360e-02,  7.0848e-02],\n",
       "                        [ 6.9464e-02,  1.0047e-01, -8.8497e-02, -6.2718e-02, -7.1663e-02],\n",
       "                        [ 7.6496e-02, -5.8585e-02, -8.3046e-02,  6.6145e-03,  9.5360e-02],\n",
       "                        [ 4.4765e-03,  8.5718e-02,  7.4260e-02,  5.8470e-02, -8.0507e-02],\n",
       "                        [-3.4865e-02,  8.1051e-03, -6.0284e-02,  1.1234e-01, -3.2035e-02]],\n",
       "              \n",
       "                       [[ 5.8224e-02,  6.8289e-02,  7.4646e-02,  6.7197e-02,  1.8864e-02],\n",
       "                        [-4.9170e-03, -8.4029e-03,  1.0376e-01,  8.2566e-02, -1.1478e-01],\n",
       "                        [-4.3390e-02,  2.0370e-03,  4.8033e-02,  1.0574e-01,  1.0967e-01],\n",
       "                        [ 1.0145e-01,  9.4205e-02, -8.8773e-02, -8.4384e-02,  7.3974e-02],\n",
       "                        [-1.1348e-01,  6.1359e-03, -7.2342e-02, -6.4476e-02,  1.6644e-02]],\n",
       "              \n",
       "                       [[ 1.6144e-02,  6.0260e-02, -8.2893e-02, -4.7442e-02,  7.7501e-02],\n",
       "                        [ 2.6297e-02, -2.6388e-02, -7.0615e-02,  5.4030e-02,  4.8180e-02],\n",
       "                        [ 3.9900e-02, -1.4691e-02,  1.0545e-01,  9.0145e-02, -7.2817e-02],\n",
       "                        [ 5.0981e-02,  8.9501e-02, -4.3338e-02, -1.1258e-01, -9.6118e-02],\n",
       "                        [ 9.5488e-02,  1.5460e-04, -6.6011e-02,  6.3985e-02, -2.7329e-02]]],\n",
       "              \n",
       "              \n",
       "                      [[[-9.9415e-02, -5.0036e-02,  4.4230e-02, -6.2747e-03, -4.4520e-02],\n",
       "                        [-5.1259e-03, -7.8625e-02, -4.1542e-02, -8.6721e-02, -6.8755e-03],\n",
       "                        [-2.7627e-02,  5.8974e-02,  6.5827e-02,  8.7014e-02,  9.0446e-02],\n",
       "                        [ 1.9335e-02,  5.2268e-02, -5.9020e-03,  6.6413e-02, -7.0330e-02],\n",
       "                        [ 5.3068e-03, -8.2820e-02,  6.1578e-03, -8.4029e-03, -6.8426e-02]],\n",
       "              \n",
       "                       [[-9.3048e-02,  5.0667e-03,  2.3873e-02, -1.6193e-02, -5.7653e-02],\n",
       "                        [-6.2884e-02,  4.5520e-02,  5.8597e-02, -9.5589e-02, -4.5664e-02],\n",
       "                        [ 7.9772e-02,  2.6713e-02, -7.6321e-02,  9.1387e-02, -6.6848e-02],\n",
       "                        [ 9.5348e-02, -7.6791e-02, -4.5221e-02, -9.4232e-03, -7.6997e-02],\n",
       "                        [-4.3618e-02,  3.1071e-02, -2.5266e-02,  1.7642e-02,  8.4166e-02]],\n",
       "              \n",
       "                       [[-1.0527e-01,  4.2240e-02,  2.3863e-02, -1.1515e-01, -2.1681e-02],\n",
       "                        [ 4.3353e-02,  5.1930e-02,  6.2646e-02,  1.1527e-02,  9.8251e-02],\n",
       "                        [-5.0645e-02,  3.8123e-02,  5.6929e-02,  1.0170e-01, -4.6230e-02],\n",
       "                        [ 2.2541e-02, -2.0879e-02, -7.2479e-02,  2.6047e-02, -7.0073e-02],\n",
       "                        [ 5.9615e-02,  5.5019e-02,  1.0786e-02,  9.7401e-02, -8.7813e-02]]]])),\n",
       "             ('bias',\n",
       "              tensor([ 0.0095, -0.0966, -0.0773,  0.0610, -0.0284, -0.0358, -0.0623, -0.0270,\n",
       "                      -0.0127,  0.0781]))])"
      ]
     },
     "execution_count": 44,
     "metadata": {},
     "output_type": "execute_result"
    }
   ],
   "source": [
    "conv_layer2.state_dict()"
   ]
  },
  {
   "cell_type": "code",
   "execution_count": 46,
   "id": "7abcdf94-eabf-44e7-9dff-6c63407bd5b2",
   "metadata": {},
   "outputs": [
    {
     "name": "stdout",
     "output_type": "stream",
     "text": [
      "conv_layer2 weight shape: \n",
      "torch.Size([10, 3, 5, 5]) -> [out_channels=10, in_channels=3, kernel_size=5, kernel_size=5]\n",
      "\n",
      "conv_layer2 bias shape: \n",
      "torch.Size([10]) -> [out_channels=10]\n"
     ]
    }
   ],
   "source": [
    "# Get shapes of weight and bias tensors within conv_layer_2\n",
    "print(f\"conv_layer2 weight shape: \\n{conv_layer2.weight.shape} -> [out_channels=10, in_channels=3, kernel_size=5, kernel_size=5]\")\n",
    "print(f\"\\nconv_layer2 bias shape: \\n{conv_layer2.bias.shape} -> [out_channels=10]\")"
   ]
  },
  {
   "cell_type": "code",
   "execution_count": 49,
   "id": "48847615-eca7-4564-a62c-d50434a3bfef",
   "metadata": {},
   "outputs": [
    {
     "name": "stdout",
     "output_type": "stream",
     "text": [
      "Test image original shape: torch.Size([3, 64, 64])\n",
      "Test image with unsqueezed dimension: torch.Size([1, 3, 64, 64])\n",
      "Shape after going through conv_layer(): torch.Size([1, 10, 62, 62])\n",
      "Shape after going through conv_layer() and max_pool_layer(): torch.Size([1, 10, 31, 31])\n"
     ]
    }
   ],
   "source": [
    "# Print out original image shape without and with unsqueezed dimension\n",
    "print(f\"Test image original shape: {test_image.shape}\")\n",
    "print(f\"Test image with unsqueezed dimension: {test_image.unsqueeze(dim=0).shape}\")\n",
    "\n",
    "# Create a sample nn.MaxPoo2d() layer\n",
    "max_pool_layer = nn.MaxPool2d(kernel_size=2)\n",
    "\n",
    "# Pass data through just the conv_layer\n",
    "test_image_through_conv = conv_layer(test_image.unsqueeze(dim=0))\n",
    "print(f\"Shape after going through conv_layer(): {test_image_through_conv.shape}\")\n",
    "\n",
    "# Pass data through the max pool layer\n",
    "test_image_through_conv_and_max_pool = max_pool_layer(test_image_through_conv)\n",
    "print(f\"Shape after going through conv_layer() and max_pool_layer(): {test_image_through_conv_and_max_pool.shape}\")"
   ]
  },
  {
   "cell_type": "code",
   "execution_count": 50,
   "id": "78d419a5-124c-4e84-89aa-e3b4fcdb7b54",
   "metadata": {},
   "outputs": [
    {
     "name": "stdout",
     "output_type": "stream",
     "text": [
      "Random tensor:\n",
      "tensor([[[[-0.1117, -1.1456],\n",
      "          [ 1.4103,  1.3654]]]])\n",
      "Random tensor shape: torch.Size([1, 1, 2, 2])\n",
      "\n",
      "Max pool tensor:\n",
      "tensor([[[[1.4103]]]]) <- this is the maximum value from random_tensor\n",
      "Max pool tensor shape: torch.Size([1, 1, 1, 1])\n"
     ]
    }
   ],
   "source": [
    "torch.manual_seed(13)\n",
    "# Create a random tensor with a similiar number of dimensions to our images\n",
    "random_tensor = torch.randn(size=(1, 1, 2, 2))\n",
    "print(f\"Random tensor:\\n{random_tensor}\")\n",
    "print(f\"Random tensor shape: {random_tensor.shape}\")\n",
    "\n",
    "# Create a max pool layer\n",
    "max_pool_layer = nn.MaxPool2d(kernel_size=2) # see what happens when you change the kernel_size value \n",
    "\n",
    "# Pass the random tensor through the max pool layer\n",
    "max_pool_tensor = max_pool_layer(random_tensor)\n",
    "print(f\"\\nMax pool tensor:\\n{max_pool_tensor} <- this is the maximum value from random_tensor\")\n",
    "print(f\"Max pool tensor shape: {max_pool_tensor.shape}\")"
   ]
  },
  {
   "cell_type": "code",
   "execution_count": 51,
   "id": "1a017edc-2824-4f82-8a7d-901d328a31f7",
   "metadata": {},
   "outputs": [],
   "source": [
    "# Setup loss and optimizer\n",
    "loss_fn = nn.CrossEntropyLoss()\n",
    "optimizer = torch.optim.SGD(params=model_2.parameters(), \n",
    "                             lr=0.1)"
   ]
  },
  {
   "cell_type": "code",
   "execution_count": 55,
   "id": "2467d848-80db-46c8-ae41-4ccaf3057f1a",
   "metadata": {},
   "outputs": [
    {
     "name": "stderr",
     "output_type": "stream",
     "text": [
      "  0%|          | 0/3 [00:00<?, ?it/s]"
     ]
    },
    {
     "name": "stdout",
     "output_type": "stream",
     "text": [
      "Epoch: 0\n",
      "---------\n",
      "Train loss: 2.30444 | Train accuracy: 9.04%\n"
     ]
    },
    {
     "name": "stderr",
     "output_type": "stream",
     "text": [
      " 33%|███▎      | 1/3 [00:25<00:51, 25.95s/it]"
     ]
    },
    {
     "name": "stdout",
     "output_type": "stream",
     "text": [
      "Test loss: 2.30448 | Test accuracy: 8.93%\n",
      "\n",
      "Epoch: 1\n",
      "---------\n",
      "Train loss: 2.30444 | Train accuracy: 9.04%\n"
     ]
    },
    {
     "name": "stderr",
     "output_type": "stream",
     "text": [
      " 67%|██████▋   | 2/3 [00:51<00:25, 25.83s/it]"
     ]
    },
    {
     "name": "stdout",
     "output_type": "stream",
     "text": [
      "Test loss: 2.30448 | Test accuracy: 8.93%\n",
      "\n",
      "Epoch: 2\n",
      "---------\n",
      "Train loss: 2.30445 | Train accuracy: 9.04%\n"
     ]
    },
    {
     "name": "stderr",
     "output_type": "stream",
     "text": [
      "100%|██████████| 3/3 [01:17<00:00, 25.83s/it]"
     ]
    },
    {
     "name": "stdout",
     "output_type": "stream",
     "text": [
      "Test loss: 2.30448 | Test accuracy: 8.93%\n",
      "\n",
      "Train time on cpu: 77.493 seconds\n"
     ]
    },
    {
     "name": "stderr",
     "output_type": "stream",
     "text": [
      "\n"
     ]
    }
   ],
   "source": [
    "torch.manual_seed(13)\n",
    "\n",
    "# Measure time\n",
    "from timeit import default_timer as timer\n",
    "train_time_start_model_2 = timer()\n",
    "\n",
    "# Train and test model \n",
    "epochs = 3\n",
    "for epoch in tqdm(range(epochs)):\n",
    "    print(f\"Epoch: {epoch}\\n---------\")\n",
    "    train_step(\n",
    "        data_loader=train_dataloader, \n",
    "        model=model_2, \n",
    "        loss_fn=loss_fn,\n",
    "        optimizer=optimizer,\n",
    "        accuracy_fn=accuracy_fn,\n",
    "        device=device\n",
    "    )\n",
    "    test_step(\n",
    "        data_loader=test_dataloader,\n",
    "        model=model_2,\n",
    "        loss_fn=loss_fn,\n",
    "        accuracy_fn=accuracy_fn,\n",
    "        device=device\n",
    "    )\n",
    "\n",
    "train_time_end_model_2 = timer()\n",
    "total_train_time_model_2 = print_train_time(start=train_time_start_model_2,\n",
    "                                           end=train_time_end_model_2,\n",
    "                                           device=device)"
   ]
  },
  {
   "cell_type": "code",
   "execution_count": 56,
   "id": "6c49bc52-a724-4fdf-8d1e-f4cc374c0c77",
   "metadata": {},
   "outputs": [
    {
     "data": {
      "text/plain": [
       "{'model_name': 'MNISTModelV2',\n",
       " 'model_loss': 2.304478645324707,\n",
       " 'model_acc': 8.925718849840255}"
      ]
     },
     "execution_count": 56,
     "metadata": {},
     "output_type": "execute_result"
    }
   ],
   "source": [
    "# Get model_2 results \n",
    "model_2_results = eval_model(\n",
    "    model=model_2,\n",
    "    data_loader=test_dataloader,\n",
    "    loss_fn=loss_fn,\n",
    "    accuracy_fn=accuracy_fn\n",
    ")\n",
    "model_2_results"
   ]
  },
  {
   "cell_type": "code",
   "execution_count": 57,
   "id": "7a021bba-9fe4-422e-abf0-77c666beb6fb",
   "metadata": {},
   "outputs": [
    {
     "data": {
      "text/html": [
       "<div>\n",
       "<style scoped>\n",
       "    .dataframe tbody tr th:only-of-type {\n",
       "        vertical-align: middle;\n",
       "    }\n",
       "\n",
       "    .dataframe tbody tr th {\n",
       "        vertical-align: top;\n",
       "    }\n",
       "\n",
       "    .dataframe thead th {\n",
       "        text-align: right;\n",
       "    }\n",
       "</style>\n",
       "<table border=\"1\" class=\"dataframe\">\n",
       "  <thead>\n",
       "    <tr style=\"text-align: right;\">\n",
       "      <th></th>\n",
       "      <th>model_name</th>\n",
       "      <th>model_loss</th>\n",
       "      <th>model_acc</th>\n",
       "    </tr>\n",
       "  </thead>\n",
       "  <tbody>\n",
       "    <tr>\n",
       "      <th>0</th>\n",
       "      <td>MNISTModelV0</td>\n",
       "      <td>0.285650</td>\n",
       "      <td>91.793131</td>\n",
       "    </tr>\n",
       "    <tr>\n",
       "      <th>1</th>\n",
       "      <td>MNISTModelV1</td>\n",
       "      <td>0.496499</td>\n",
       "      <td>82.258387</td>\n",
       "    </tr>\n",
       "    <tr>\n",
       "      <th>2</th>\n",
       "      <td>MNISTModelV2</td>\n",
       "      <td>2.304479</td>\n",
       "      <td>8.925719</td>\n",
       "    </tr>\n",
       "  </tbody>\n",
       "</table>\n",
       "</div>"
      ],
      "text/plain": [
       "     model_name  model_loss  model_acc\n",
       "0  MNISTModelV0    0.285650  91.793131\n",
       "1  MNISTModelV1    0.496499  82.258387\n",
       "2  MNISTModelV2    2.304479   8.925719"
      ]
     },
     "execution_count": 57,
     "metadata": {},
     "output_type": "execute_result"
    }
   ],
   "source": [
    "import pandas as pd\n",
    "compare_results = pd.DataFrame([model_0_results, model_1_results, model_2_results])\n",
    "compare_results"
   ]
  },
  {
   "cell_type": "code",
   "execution_count": 58,
   "id": "7cfa2c07-254b-4ede-988b-91cfe701617a",
   "metadata": {},
   "outputs": [
    {
     "data": {
      "text/html": [
       "<div>\n",
       "<style scoped>\n",
       "    .dataframe tbody tr th:only-of-type {\n",
       "        vertical-align: middle;\n",
       "    }\n",
       "\n",
       "    .dataframe tbody tr th {\n",
       "        vertical-align: top;\n",
       "    }\n",
       "\n",
       "    .dataframe thead th {\n",
       "        text-align: right;\n",
       "    }\n",
       "</style>\n",
       "<table border=\"1\" class=\"dataframe\">\n",
       "  <thead>\n",
       "    <tr style=\"text-align: right;\">\n",
       "      <th></th>\n",
       "      <th>model_name</th>\n",
       "      <th>model_loss</th>\n",
       "      <th>model_acc</th>\n",
       "      <th>training_time</th>\n",
       "    </tr>\n",
       "  </thead>\n",
       "  <tbody>\n",
       "    <tr>\n",
       "      <th>0</th>\n",
       "      <td>MNISTModelV0</td>\n",
       "      <td>0.285650</td>\n",
       "      <td>91.793131</td>\n",
       "      <td>4.706909</td>\n",
       "    </tr>\n",
       "    <tr>\n",
       "      <th>1</th>\n",
       "      <td>MNISTModelV1</td>\n",
       "      <td>0.496499</td>\n",
       "      <td>82.258387</td>\n",
       "      <td>4.725496</td>\n",
       "    </tr>\n",
       "    <tr>\n",
       "      <th>2</th>\n",
       "      <td>MNISTModelV2</td>\n",
       "      <td>2.304479</td>\n",
       "      <td>8.925719</td>\n",
       "      <td>77.492961</td>\n",
       "    </tr>\n",
       "  </tbody>\n",
       "</table>\n",
       "</div>"
      ],
      "text/plain": [
       "     model_name  model_loss  model_acc  training_time\n",
       "0  MNISTModelV0    0.285650  91.793131       4.706909\n",
       "1  MNISTModelV1    0.496499  82.258387       4.725496\n",
       "2  MNISTModelV2    2.304479   8.925719      77.492961"
      ]
     },
     "execution_count": 58,
     "metadata": {},
     "output_type": "execute_result"
    }
   ],
   "source": [
    "# Add training times to results comparison\n",
    "compare_results[\"training_time\"] = [total_train_time_model_0,\n",
    "                                    total_train_time_model_1,\n",
    "                                    total_train_time_model_2]\n",
    "compare_results"
   ]
  },
  {
   "cell_type": "code",
   "execution_count": 59,
   "id": "9eae1adb-cece-4c30-9cb8-d7bfc067a99f",
   "metadata": {},
   "outputs": [
    {
     "data": {
      "image/png": "[encoded data removed]",
      "text/plain": [
       "<Figure size 640x480 with 1 Axes>"
      ]
     },
     "metadata": {},
     "output_type": "display_data"
    }
   ],
   "source": [
    "# Visualize our model results\n",
    "compare_results.set_index(\"model_name\")[\"model_acc\"].plot(kind=\"barh\")\n",
    "plt.xlabel(\"accuracy (%)\")\n",
    "plt.ylabel(\"model\");"
   ]
  },
  {
   "cell_type": "code",
   "execution_count": 60,
   "id": "f6b6c389-4e93-4008-9c14-5048182f1add",
   "metadata": {},
   "outputs": [],
   "source": [
    "def make_predictions(model: torch.nn.Module, data: list, device: torch.device = device):\n",
    "    pred_probs = []\n",
    "    model.eval()\n",
    "    with torch.inference_mode():\n",
    "        for sample in data:\n",
    "            # Prepare sample\n",
    "            sample = torch.unsqueeze(sample, dim=0).to(device) # Add an extra dimension and send sample to device\n",
    "\n",
    "            # Forward pass (model outputs raw logit)\n",
    "            pred_logit = model(sample)\n",
    "\n",
    "            # Get prediction probability (logit -> prediction probability)\n",
    "            pred_prob = torch.softmax(pred_logit.squeeze(), dim=0) # note: perform softmax on the \"logits\" dimension, not \"batch\" dimension (in this case we have a batch size of 1, so can perform on dim=0)\n",
    "\n",
    "            # Get pred_prob off GPU for further calculations\n",
    "            pred_probs.append(pred_prob.cpu())\n",
    "            \n",
    "    # Stack the pred_probs to turn list into a tensor\n",
    "    return torch.stack(pred_probs)"
   ]
  },
  {
   "cell_type": "code",
   "execution_count": 61,
   "id": "21379b3c-e0e0-4512-bb70-cfcb330b3bb0",
   "metadata": {},
   "outputs": [
    {
     "name": "stdout",
     "output_type": "stream",
     "text": [
      "Test sample image shape: torch.Size([1, 28, 28])\n",
      "Test sample label: 2 (2 - two)\n"
     ]
    }
   ],
   "source": [
    "import random\n",
    "random.seed(42)\n",
    "test_samples = []\n",
    "test_labels = []\n",
    "for sample, label in random.sample(list(test_data), k=9):\n",
    "    test_samples.append(sample)\n",
    "    test_labels.append(label)\n",
    "\n",
    "# View the first test sample shape and label\n",
    "print(f\"Test sample image shape: {test_samples[0].shape}\\nTest sample label: {test_labels[0]} ({class_names[test_labels[0]]})\")"
   ]
  },
  {
   "cell_type": "code",
   "execution_count": 62,
   "id": "0b3788ca-80a3-40b4-8fc4-ed379aef2557",
   "metadata": {},
   "outputs": [
    {
     "data": {
      "text/plain": [
       "tensor([[0.1035, 0.0999, 0.0981, 0.0894, 0.1014, 0.1056, 0.1017, 0.0979, 0.0999,\n",
       "         0.1028],\n",
       "        [0.1038, 0.0999, 0.0979, 0.0901, 0.1014, 0.1051, 0.1012, 0.0979, 0.0998,\n",
       "         0.1030]])"
      ]
     },
     "execution_count": 62,
     "metadata": {},
     "output_type": "execute_result"
    }
   ],
   "source": [
    "# Make predictions on test samples with model 2\n",
    "pred_probs= make_predictions(model=model_2, \n",
    "                             data=test_samples)\n",
    "\n",
    "# View first two prediction probabilities list\n",
    "pred_probs[:2]"
   ]
  },
  {
   "cell_type": "code",
   "execution_count": 63,
   "id": "55ea8562-ae98-4f8e-9949-a399cebdd868",
   "metadata": {},
   "outputs": [
    {
     "data": {
      "text/plain": [
       "tensor([5, 5, 5, 5, 5, 5, 5, 5, 5])"
      ]
     },
     "execution_count": 63,
     "metadata": {},
     "output_type": "execute_result"
    }
   ],
   "source": [
    "# Turn the prediction probabilities into prediction labels by taking the argmax()\n",
    "pred_classes = pred_probs.argmax(dim=1)\n",
    "pred_classes"
   ]
  },
  {
   "cell_type": "code",
   "execution_count": 64,
   "id": "1469c70b-8f7d-4dae-9700-f851db3dba80",
   "metadata": {},
   "outputs": [
    {
     "data": {
      "text/plain": [
       "([2, 1, 2, 4, 6, 6, 4, 9, 1], tensor([5, 5, 5, 5, 5, 5, 5, 5, 5]))"
      ]
     },
     "execution_count": 64,
     "metadata": {},
     "output_type": "execute_result"
    }
   ],
   "source": [
    "# Are our predictions in the same form as our test labels? \n",
    "test_labels, pred_classes"
   ]
  },
  {
   "cell_type": "code",
   "execution_count": 65,
   "id": "ffb8b58c-d2e1-41d3-b74f-ffe45e4530cb",
   "metadata": {},
   "outputs": [
    {
     "data": {
      "image/png": "[encoded data removed]",
      "text/plain": [
       "<Figure size 900x900 with 9 Axes>"
      ]
     },
     "metadata": {},
     "output_type": "display_data"
    }
   ],
   "source": [
    "# Plot predictions\n",
    "plt.figure(figsize=(9, 9))\n",
    "nrows = 3\n",
    "ncols = 3\n",
    "for i, sample in enumerate(test_samples):\n",
    "  # Create a subplot\n",
    "  plt.subplot(nrows, ncols, i+1)\n",
    "\n",
    "  # Plot the target image\n",
    "  plt.imshow(sample.squeeze(), cmap=\"gray\")\n",
    "\n",
    "  # Find the prediction label (in text form, e.g. \"Sandal\")\n",
    "  pred_label = class_names[pred_classes[i]]\n",
    "\n",
    "  # Get the truth label (in text form, e.g. \"T-shirt\")\n",
    "  truth_label = class_names[test_labels[i]] \n",
    "\n",
    "  # Create the title text of the plot\n",
    "  title_text = f\"Pred: {pred_label} | Truth: {truth_label}\"\n",
    "  \n",
    "  # Check for equality and change title colour accordingly\n",
    "  if pred_label == truth_label:\n",
    "      plt.title(title_text, fontsize=10, c=\"g\") # green text if correct\n",
    "  else:\n",
    "      plt.title(title_text, fontsize=10, c=\"r\") # red text if wrong\n",
    "  plt.axis(False);"
   ]
  },
  {
   "cell_type": "code",
   "execution_count": 66,
   "id": "56608919-d2ed-4e4e-82e1-da0fd7d4b882",
   "metadata": {},
   "outputs": [
    {
     "name": "stderr",
     "output_type": "stream",
     "text": [
      "Making predictions: 100%|██████████| 313/313 [00:00<00:00, 396.27it/s]\n"
     ]
    }
   ],
   "source": [
    "# Import tqdm for progress bar\n",
    "from tqdm.auto import tqdm\n",
    "\n",
    "# 1. Make predictions with trained model\n",
    "y_preds = []\n",
    "model_2.eval()\n",
    "with torch.inference_mode():\n",
    "  for X, y in tqdm(test_dataloader, desc=\"Making predictions\"):\n",
    "    # Send data and targets to target device\n",
    "    X, y = X.to(device), y.to(device)\n",
    "    # Do the forward pass\n",
    "    y_logit = model_2(X)\n",
    "    # Turn predictions from logits -> prediction probabilities -> predictions labels\n",
    "    y_pred = torch.softmax(y_logit, dim=1).argmax(dim=1) # note: perform softmax on the \"logits\" dimension, not \"batch\" dimension (in this case we have a batch size of 32, so can perform on dim=1)\n",
    "    # Put predictions on CPU for evaluation\n",
    "    y_preds.append(y_pred.cpu())\n",
    "# Concatenate list of predictions into a tensor\n",
    "y_pred_tensor = torch.cat(y_preds)"
   ]
  },
  {
   "cell_type": "code",
   "execution_count": 67,
   "id": "79e31316-3c14-4d1d-9fac-02e58b4f28f2",
   "metadata": {},
   "outputs": [
    {
     "name": "stdout",
     "output_type": "stream",
     "text": [
      "mlxtend version: 0.23.1\n"
     ]
    }
   ],
   "source": [
    "# See if torchmetrics exists, if not, install it\n",
    "try:\n",
    "    import torchmetrics, mlxtend\n",
    "    print(f\"mlxtend version: {mlxtend.__version__}\")\n",
    "    assert int(mlxtend.__version__.split(\".\")[1]) >= 19, \"mlxtend verison should be 0.19.0 or higher\"\n",
    "except:\n",
    "    !pip install -q torchmetrics -U mlxtend # <- Note: If you're using Google Colab, this may require restarting the runtime\n",
    "    import torchmetrics, mlxtend\n",
    "    print(f\"mlxtend version: {mlxtend.__version__}\")"
   ]
  },
  {
   "cell_type": "code",
   "execution_count": 68,
   "id": "1d9ac18c-5295-49a7-a549-5c8dfbc7b30d",
   "metadata": {},
   "outputs": [
    {
     "name": "stdout",
     "output_type": "stream",
     "text": [
      "0.23.1\n"
     ]
    }
   ],
   "source": [
    "# Import mlxtend upgraded version\n",
    "import mlxtend \n",
    "print(mlxtend.__version__)\n",
    "assert int(mlxtend.__version__.split(\".\")[1]) >= 19 # should be version 0.19.0 or higher"
   ]
  },
  {
   "cell_type": "code",
   "execution_count": 69,
   "id": "43ce7ac9-4460-41c5-8d2b-f9f058fc9863",
   "metadata": {},
   "outputs": [
    {
     "data": {
      "image/png": "[encoded data removed]",
      "text/plain": [
       "<Figure size 1000x700 with 1 Axes>"
      ]
     },
     "metadata": {},
     "output_type": "display_data"
    }
   ],
   "source": [
    "from torchmetrics import ConfusionMatrix\n",
    "from mlxtend.plotting import plot_confusion_matrix\n",
    "\n",
    "# 2. Setup confusion matrix instance and compare predictions to targets\n",
    "confmat = ConfusionMatrix(num_classes=len(class_names), task='multiclass')\n",
    "confmat_tensor = confmat(preds=y_pred_tensor,\n",
    "                         target=test_data.targets)\n",
    "\n",
    "# 3. Plot the confusion matrix\n",
    "fig, ax = plot_confusion_matrix(\n",
    "    conf_mat=confmat_tensor.numpy(), # matplotlib likes working with NumPy \n",
    "    class_names=class_names, # turn the row and column labels into class names\n",
    "    figsize=(10, 7)\n",
    ");"
   ]
  },
  {
   "cell_type": "code",
   "execution_count": 70,
   "id": "7ddb8e73-449c-4f97-9ef9-e1d505f9f0cc",
   "metadata": {},
   "outputs": [
    {
     "name": "stdout",
     "output_type": "stream",
     "text": [
      "Saving model to: models/mnist_computer_vision_model_2.pth\n"
     ]
    }
   ],
   "source": [
    "from pathlib import Path\n",
    "\n",
    "# Create models directory (if it doesn't already exist), see: https://docs.python.org/3/library/pathlib.html#pathlib.Path.mkdir\n",
    "MODEL_PATH = Path(\"models\")\n",
    "MODEL_PATH.mkdir(parents=True, # create parent directories if needed\n",
    "                 exist_ok=True # if models directory already exists, don't error\n",
    ")\n",
    "\n",
    "# Create model save path\n",
    "MODEL_NAME = \"mnist_computer_vision_model_2.pth\"\n",
    "MODEL_SAVE_PATH = MODEL_PATH / MODEL_NAME\n",
    "\n",
    "# Save the model state dict\n",
    "print(f\"Saving model to: {MODEL_SAVE_PATH}\")\n",
    "torch.save(obj=model_2.state_dict(), # only saving the state_dict() only saves the learned parameters\n",
    "           f=MODEL_SAVE_PATH)"
   ]
  },
  {
   "cell_type": "code",
   "execution_count": 72,
   "id": "84c2708d-1f58-420a-92de-01ec375f7514",
   "metadata": {},
   "outputs": [],
   "source": [
    "# Create a new instance of MNISTModelV2 (the same class as our saved state_dict())\n",
    "# Note: loading model will error if the shapes here aren't the same as the saved version\n",
    "loaded_model_2 = MNISTModelV2(input_shape=1, \n",
    "                                    hidden_units=10, # try changing this to 128 and seeing what happens \n",
    "                                    output_shape=10) \n",
    "\n",
    "# Load in the saved state_dict()\n",
    "loaded_model_2.load_state_dict(torch.load(f=MODEL_SAVE_PATH))\n",
    "\n",
    "# Send model to GPU\n",
    "loaded_model_2 = loaded_model_2.to(device)"
   ]
  },
  {
   "cell_type": "code",
   "execution_count": 73,
   "id": "57fcde86-7fda-41a3-a716-62695842e6c1",
   "metadata": {},
   "outputs": [
    {
     "data": {
      "text/plain": [
       "{'model_name': 'MNISTModelV2',\n",
       " 'model_loss': 2.304478645324707,\n",
       " 'model_acc': 8.925718849840255}"
      ]
     },
     "execution_count": 73,
     "metadata": {},
     "output_type": "execute_result"
    }
   ],
   "source": [
    "# Evaluate loaded model\n",
    "torch.manual_seed(42)\n",
    "\n",
    "loaded_model_2_results = eval_model(\n",
    "    model=loaded_model_2,\n",
    "    data_loader=test_dataloader,\n",
    "    loss_fn=loss_fn, \n",
    "    accuracy_fn=accuracy_fn\n",
    ")\n",
    "\n",
    "loaded_model_2_results"
   ]
  },
  {
   "cell_type": "code",
   "execution_count": 74,
   "id": "3bbdd9e6-fcbb-4fa0-a8f6-897ff27ba8cd",
   "metadata": {},
   "outputs": [
    {
     "data": {
      "text/plain": [
       "{'model_name': 'MNISTModelV2',\n",
       " 'model_loss': 2.304478645324707,\n",
       " 'model_acc': 8.925718849840255}"
      ]
     },
     "execution_count": 74,
     "metadata": {},
     "output_type": "execute_result"
    }
   ],
   "source": [
    "model_2_results"
   ]
  },
  {
   "cell_type": "code",
   "execution_count": 75,
   "id": "109a17fe-597d-4dc8-8ca1-ac937cfc0d97",
   "metadata": {},
   "outputs": [
    {
     "data": {
      "text/plain": [
       "tensor(True)"
      ]
     },
     "execution_count": 75,
     "metadata": {},
     "output_type": "execute_result"
    }
   ],
   "source": [
    "# Check to see if results are close to each other (if they are very far away, there may be an error)\n",
    "torch.isclose(torch.tensor(model_2_results[\"model_loss\"]), \n",
    "              torch.tensor(loaded_model_2_results[\"model_loss\"]),\n",
    "              atol=1e-08, # absolute tolerance\n",
    "              rtol=0.0001) # relative tolerance"
   ]
  }
 ],
 "metadata": {
  "kernelspec": {
   "display_name": "Python 3 (ipykernel)",
   "language": "python",
   "name": "python3"
  },
  "language_info": {
   "codemirror_mode": {
    "name": "ipython",
    "version": 3
   },
   "file_extension": ".py",
   "mimetype": "text/x-python",
   "name": "python",
   "nbconvert_exporter": "python",
   "pygments_lexer": "ipython3",
   "version": "3.11.5"
  }
 },
 "nbformat": 4,
 "nbformat_minor": 5
}
